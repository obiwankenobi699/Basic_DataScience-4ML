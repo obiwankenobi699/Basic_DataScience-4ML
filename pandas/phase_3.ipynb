{
 "cells": [
  {
   "metadata": {},
   "cell_type": "markdown",
   "source": [
    "```\n",
    "Feature Engineering\n",
    "    |\n",
    "    +-- Feature Creation\n",
    "    |       |\n",
    "    |       +-- Ratios\n",
    "    |       +-- Interactions\n",
    "    |       +-- Polynomial Features\n",
    "    |\n",
    "    +-- Datetime Features\n",
    "    |       |\n",
    "    |       +-- Year / Month / Day\n",
    "    |       +-- Time Since Event\n",
    "    |       +-- Seasonality\n",
    "    |\n",
    "    +-- Text Features\n",
    "    |       |\n",
    "    |       +-- Word Count / TF-IDF\n",
    "    |       +-- Sentiment Analysis\n",
    "    |\n",
    "    +-- Domain-Specific Features\n",
    "    |       |\n",
    "    |       +-- Business-Specific Metrics\n",
    "    |       +-- Aggregates (e.g., Customer Lifetime Value)\n",
    "    |\n",
    "    +-- Dimensionality Reduction\n",
    "            |\n",
    "            +-- Principal Component Analysis (PCA)\n",
    "            +-- t-SNE / UMAP\n",
    "```\n",
    "```"
   ],
   "id": "8df5466c5aadbca"
  },
  {
   "metadata": {},
   "cell_type": "code",
   "source": [
    "import  numpy as np\n",
    "import pandas as pd\n",
    "import matplotlib.pyplot as plt"
   ],
   "id": "a98e83bf213ab791",
   "outputs": [],
   "execution_count": null
  },
  {
   "metadata": {},
   "cell_type": "code",
   "source": [
    "df = pd.read_csv(r'C:\\Basic_Datascience_4ML\\assets\\data\\anime.csv')\n",
    "print(df.head())"
   ],
   "id": "7561b9f036100248",
   "outputs": [],
   "execution_count": null
  },
  {
   "metadata": {},
   "cell_type": "markdown",
   "source": "extract feature of episode from title",
   "id": "b434a797c4076cc8"
  },
  {
   "metadata": {},
   "cell_type": "code",
   "source": [
    "def extract_episodes(txt):\n",
    "    check = False\n",
    "    data = \"\"\n",
    "    for i in txt:\n",
    "        if i == \")\":\n",
    "            check = False\n",
    "            break\n",
    "        if check == True:\n",
    "            data += i\n",
    "        if i == \"(\":\n",
    "            check = True\n",
    "    return data\n",
    "\n",
    "df ['Episodes'] = df[\"Title\"].apply(extract_episodes)\n",
    "df['Episodes']= df['Episodes'].str.replace(\" eps\",\"\")\n",
    "df['Episodes']= df['Episodes'].astype(int)\n",
    "print(df)"
   ],
   "id": "f8e3f165ac0f8db5",
   "outputs": [],
   "execution_count": null
  },
  {
   "metadata": {},
   "cell_type": "markdown",
   "source": "Extract Timestam from Title",
   "id": "70f3ee5da73cba6d"
  },
  {
   "metadata": {},
   "cell_type": "code",
   "source": [
    "def extraction_time(txt):\n",
    "    check = False\n",
    "    data = \"\"\n",
    "    for i in range(len(txt)):\n",
    "        if txt[i] == \")\":\n",
    "            for j in range(i+1,i+20):\n",
    "                data += txt[j]\n",
    "            return data\n",
    "\n",
    "df ['Total Time'] = df[\"Title\"].apply(extraction_time)\n",
    "df.head()"
   ],
   "id": "d71deccaaaf22bbf",
   "outputs": [],
   "execution_count": null
  },
  {
   "metadata": {},
   "cell_type": "markdown",
   "source": "Extract month from totaltime",
   "id": "2b08a34d59a942f5"
  },
  {
   "metadata": {},
   "cell_type": "code",
   "source": [
    "# Function to extract month range\n",
    "def extraction_month(txt):\n",
    "    # Split by \" - \" and take only the first part (month) from each\n",
    "    start, end = txt.split(' - ')\n",
    "    return f\"{start.split()[0]} - {end.split()[0]}\"\n",
    "\n",
    "# Apply the function to the column\n",
    "df[\"Month\"] = df[\"Total Time\"].apply(extraction_month)\n",
    "df.head()\n"
   ],
   "id": "4cc9c8f0f581af99",
   "outputs": [],
   "execution_count": null
  },
  {
   "metadata": {},
   "cell_type": "markdown",
   "source": "Higest Score of anime\n",
   "id": "59a722897c28dd48"
  },
  {
   "metadata": {
    "ExecuteTime": {
     "end_time": "2025-09-20T05:49:23.350684Z",
     "start_time": "2025-09-20T05:49:23.337288Z"
    }
   },
   "cell_type": "code",
   "source": "df[df[\"Score\"]== df[\"Score\"].max()]",
   "id": "384237e1168b4685",
   "outputs": [
    {
     "data": {
      "text/plain": [
       "   Rank                                              Title  Score\n",
       "0     1  Fullmetal Alchemist: BrotherhoodTV (64 eps)Apr...    9.1"
      ],
      "text/html": [
       "<div>\n",
       "<style scoped>\n",
       "    .dataframe tbody tr th:only-of-type {\n",
       "        vertical-align: middle;\n",
       "    }\n",
       "\n",
       "    .dataframe tbody tr th {\n",
       "        vertical-align: top;\n",
       "    }\n",
       "\n",
       "    .dataframe thead th {\n",
       "        text-align: right;\n",
       "    }\n",
       "</style>\n",
       "<table border=\"1\" class=\"dataframe\">\n",
       "  <thead>\n",
       "    <tr style=\"text-align: right;\">\n",
       "      <th></th>\n",
       "      <th>Rank</th>\n",
       "      <th>Title</th>\n",
       "      <th>Score</th>\n",
       "    </tr>\n",
       "  </thead>\n",
       "  <tbody>\n",
       "    <tr>\n",
       "      <th>0</th>\n",
       "      <td>1</td>\n",
       "      <td>Fullmetal Alchemist: BrotherhoodTV (64 eps)Apr...</td>\n",
       "      <td>9.1</td>\n",
       "    </tr>\n",
       "  </tbody>\n",
       "</table>\n",
       "</div>"
      ]
     },
     "execution_count": 11,
     "metadata": {},
     "output_type": "execute_result"
    }
   ],
   "execution_count": 11
  },
  {
   "metadata": {},
   "cell_type": "code",
   "source": "df[df[\"Episodes\"] == df[\"Episodes\"].max()].head()",
   "id": "13af6f182e4ab023",
   "outputs": [],
   "execution_count": null
  }
 ],
 "metadata": {
  "kernelspec": {
   "display_name": "Python 3",
   "language": "python",
   "name": "python3"
  },
  "language_info": {
   "codemirror_mode": {
    "name": "ipython",
    "version": 2
   },
   "file_extension": ".py",
   "mimetype": "text/x-python",
   "name": "python",
   "nbconvert_exporter": "python",
   "pygments_lexer": "ipython2",
   "version": "2.7.6"
  }
 },
 "nbformat": 4,
 "nbformat_minor": 5
}
