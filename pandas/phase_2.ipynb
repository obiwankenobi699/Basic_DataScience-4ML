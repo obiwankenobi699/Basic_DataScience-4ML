{
 "cells": [
  {
   "metadata": {},
   "cell_type": "markdown",
   "source": [
    "# Handling Missing Data in Pandas\n",
    "\n",
    "| Method                           | Description                                                                 | Example Code                    |\n",
    "|----------------------------------|-----------------------------------------------------------------------------|---------------------------------|\n",
    "| `isnull()` / `isna()`            | Detect missing values (returns True/False mask).                            | `df.isnull()`                   |\n",
    "| `notnull()` / `notna()`          | Detect non-missing values.                                                  | `df.notnull()`                  |\n",
    "| `dropna()`                       | Remove rows/columns with NaN.                                               | `df.dropna()`                   |\n",
    "| `dropna(how=\"any\")`              | Drop row/col if **any** value is NaN (default).                             | `df.dropna(how=\"any\")`          |\n",
    "| `dropna(how=\"all\")`              | Drop row/col if **all** values are NaN.                                     | `df.dropna(how=\"all\")`          |\n",
    "| `dropna(thresh=N)`               | Keep row/col only if it has **at least N non-NaN values**.                  | `df.dropna(thresh=2)`           |\n",
    "| `dropna(axis=0)`                 | Drop rows with NaN (default).                                               | `df.dropna(axis=0)`             |\n",
    "| `dropna(axis=1)`                 | Drop columns with NaN.                                                      | `df.dropna(axis=1)`             |\n",
    "| `fillna(value)`                  | Fill NaN with a constant value.                                             | `df.fillna(Value=value)`        |\n",
    "| `fillna(method=\"ffill\")`         | Forward fill (propagate previous value).                                    | `df.fillna(method=\"ffill\")`     |\n",
    "| `fillna(method=\"bfill\")`         | Backward fill (propagate next value).                                       | `df.fillna(method=\"bfill\")`     |\n",
    "| `replace(np.nan, \"Missing\")`     | Replace NaN with custom value.                                              | `df.replace(np.nan, \"Missing\")` |\n",
    "| `interpolate()`                  | Fill NaN using interpolation.                                               | `df.interpolate()`              |\n",
    "| `inplace=True`                   | Apply changes permanently without creating a copy.                          | `df.dropna(inplace=True)`       |\n"
   ],
   "id": "4fba4a392a588b8c"
  },
  {
   "metadata": {},
   "cell_type": "code",
   "source": [
    "import pandas as pd\n",
    "import numpy as np\n",
    "\n",
    "# Sample DataFrame with NaN\n",
    "df = pd.DataFrame({\n",
    "    \"Name\": [\"Alice\", \"Bob\", \"Charlie\", None],\n",
    "    \"Age\": [25, np.nan, 35, None],\n",
    "    \"City\": [\"NY\", None, None, None]\n",
    "})\n",
    "\n",
    "print(\"Original DataFrame:\\n\", df)\n",
    "\n",
    "# 1. Drop row if ANY value is NaN\n",
    "print(\"\\nDrop rows where any value is NaN:\\n\", df.dropna(how=\"any\"))\n",
    "\n",
    "# 2. Drop row if ALL values are NaN\n",
    "print(\"\\nDrop rows where all values are NaN:\\n\", df.dropna(how=\"all\"))\n",
    "\n",
    "# 3. Drop rows with at least 2 NON-NaN values\n",
    "print(\"\\nKeep rows with at least 2 non-NaN values (thresh=2):\\n\", df.dropna(thresh=2))\n",
    "\n",
    "# 4. Drop columns with at least 3 NON-NaN values\n",
    "print(\"\\nKeep columns with at least 3 non-NaN values (thresh=3, axis=1):\\n\", df.dropna(axis=1, thresh=3))\n",
    "values = {\"Name\":\"Surbhi\",\"Age\":{30,40},\"City\":{\"A\",\"B\",\"C\"}}\n",
    "print(\"\\n Values \", df.fillna(value=values))\n",
    "\n"
   ],
   "id": "initial_id",
   "outputs": [],
   "execution_count": null
  },
  {
   "metadata": {},
   "cell_type": "markdown",
   "source": [
    "Solve Problems, approach for ds\n",
    "# 📘 Handling Missing Data in Pandas\n",
    "\n",
    "| Method               | Explanation                              | Example                                |\n",
    "|----------------------|------------------------------------------|----------------------------------------|\n",
    "| `fillna(value)`      | Replace NaN with a fixed value           | `df[\"Age\"].fillna(30)`                  |\n",
    "| `fillna(mean/median)`| Replace NaN with mean/median of column   | `df[\"Age\"].fillna(df[\"Age\"].mean())`    |\n",
    "|                      |                                          | `df[\"Age\"].fillna(df[\"Age\"].median())`  |\n",
    "| `fillna(mode)`       | Replace NaN with most frequent value     | `df[\"Age\"].fillna(df[\"Age\"].mode()[0])` |\n",
    "| `ffill` (forward)    | Copy previous row value to NaN           | `df[\"Age\"].fillna(method=\"ffill\")`      |\n",
    "| `bfill` (backward)   | Copy next row value to NaN               | `df[\"Age\"].fillna(method=\"bfill\")`      |\n",
    "| Custom values        | Fill NaN manually with different values  | `df.loc[df[\"Age\"].isna(),\"Age\"]=[30,40]`|\n",
    "| `dropna()`           | Remove rows with NaN values              | `df.dropna()`                           |\n",
    "| `thresh` (dropna)    | Keep rows with ≥ threshold non-NaN       | `df.dropna(thresh=2)`                   |\n",
    "| `isna()` / `notna()` | Check where NaN values exist             | `df[\"Age\"].isna()`                      |\n"
   ],
   "id": "59be2b9eccdb4b70"
  },
  {
   "metadata": {},
   "cell_type": "code",
   "source": [
    "import pandas as pd\n",
    "import numpy as np\n",
    "\n",
    "# Sample DataFrame\n",
    "df = pd.DataFrame({\n",
    "    \"Name\": [\"Alice\", \"Bob\", \"Charlie\", None],\n",
    "    \"Age\": [25, np.nan, 35, None],\n",
    "    \"City\": [\"NY\", None, None, None]\n",
    "})\n",
    "\n",
    "print(\"Original DataFrame:\\n\", df)\n",
    "\n",
    "# Fill with constant value\n",
    "print(\"\\nFill Age with 30:\\n\", df[\"Age\"].fillna(30))\n",
    "\n",
    "# Fill with mean use in ML\n",
    "print(\"\\nFill Age with mean:\\n\", df[\"Age\"].fillna(df[\"Age\"].mean()))\n",
    "\n",
    "# Fill with median use in ML\n",
    "print(\"\\nFill Age with median:\\n\", df[\"Age\"].fillna(df[\"Age\"].median()))\n",
    "\n",
    "# Fill with mode use in ML\n",
    "print(\"\\nFill Age with mode:\\n\", df[\"Age\"].fillna(df[\"Age\"].mode()[0]))\n",
    "\n",
    "# Forward fill\n",
    "print(\"\\nForward Fill (ffill):\\n\", df[\"Age\"].fillna(method=\"ffill\"))\n",
    "\n",
    "# Backward fill\n",
    "print(\"\\nBackward Fill (bfill):\\n\", df[\"Age\"].fillna(method=\"bfill\"))\n",
    "\n",
    "# Custom fill values for missing Age Fast Way\n",
    "df_custom = df.copy()\n",
    "df_custom.loc[df_custom[\"Age\"].isna(), \"Age\"] = [30, 40]\n",
    "print(\"\\nCustom Fill for Age:\\n\", df_custom)\n",
    "\n",
    "# Drop rows with NaN\n",
    "print(\"\\nDrop rows with NaN:\\n\", df.dropna())\n",
    "\n",
    "# Drop with thresh=2 (keep rows with ≥2 non-NaN values)\n",
    "print(\"\\nDrop rows with less than 2 non-NaN values:\\n\", df.dropna(thresh=2))\n",
    "\n",
    "# Check where NaN exists\n",
    "print(\"\\nCheck missing values in Age column:\\n\", df[\"Age\"].isna())\n"
   ],
   "id": "6d9873ab30bde120",
   "outputs": [],
   "execution_count": null
  },
  {
   "metadata": {},
   "cell_type": "markdown",
   "source": [
    "### 📘 Theory\n",
    "- Missing values (`NaN`/`None`) are replaced using values in a **looping order**.\n",
    "- `itertools.cycle` repeats the given list infinitely (e.g. [30,40] → 30,40,30,40…).\n",
    "- For each column:\n",
    "  - If a value is missing → replace with `next(cycle)`.\n",
    "  - If not missing → keep original value.\n",
    "- This allows filling NaNs with **different values in sequence**, not just one fixed value.\n"
   ],
   "id": "e2bf47fbfc1d9a19"
  },
  {
   "metadata": {
    "ExecuteTime": {
     "end_time": "2025-09-20T05:36:20.628810Z",
     "start_time": "2025-09-20T05:36:15.100064Z"
    }
   },
   "cell_type": "code",
   "source": [
    "import pandas as pd\n",
    "import numpy as np\n",
    "from itertools import cycle\n",
    "\n",
    "df = pd.DataFrame({\n",
    "    \"Name\": [\"Alice\", \"Bob\", \"Charlie\", None],\n",
    "    \"Age\": [25, np.nan, 35, None],\n",
    "    \"City\": [\"NY\", None, None, None]\n",
    "})\n",
    "\n",
    "# Replacement values\n",
    "fill_values = {\n",
    "    \"Name\": [\"Surbhi\"],\n",
    "    \"Age\": [30, 40],\n",
    "    \"City\": [\"A\", \"B\", \"C\"]\n",
    "}\n",
    "\n",
    "# Fill NaNs column by column\n",
    "for col, vals in fill_values.items():\n",
    "    c = cycle(vals)  # infinite loop over values\n",
    "    df[col] = df[col].apply(lambda x: next(c) if pd.isna(x) else x)\n",
    "\n",
    "print(df)\n"
   ],
   "id": "6ac0d267a2066cc8",
   "outputs": [
    {
     "name": "stdout",
     "output_type": "stream",
     "text": [
      "      Name   Age City\n",
      "0    Alice  25.0   NY\n",
      "1      Bob  30.0    A\n",
      "2  Charlie  35.0    B\n",
      "3   Surbhi  40.0    C\n"
     ]
    }
   ],
   "execution_count": 1
  }
 ],
 "metadata": {
  "kernelspec": {
   "display_name": "Python 3",
   "language": "python",
   "name": "python3"
  },
  "language_info": {
   "codemirror_mode": {
    "name": "ipython",
    "version": 2
   },
   "file_extension": ".py",
   "mimetype": "text/x-python",
   "name": "python",
   "nbconvert_exporter": "python",
   "pygments_lexer": "ipython2",
   "version": "2.7.6"
  }
 },
 "nbformat": 4,
 "nbformat_minor": 5
}
