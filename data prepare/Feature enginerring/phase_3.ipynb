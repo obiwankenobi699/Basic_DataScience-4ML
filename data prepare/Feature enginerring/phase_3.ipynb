{
 "cells": [
  {
   "metadata": {},
   "cell_type": "markdown",
   "source": "pipelines A-z col transformer",
   "id": "accec8bbdb1e6a9"
  },
  {
   "metadata": {
    "ExecuteTime": {
     "end_time": "2025-09-30T13:18:07.728708Z",
     "start_time": "2025-09-30T13:18:07.722325Z"
    }
   },
   "cell_type": "code",
   "source": [
    "import numpy as np\n",
    "import pandas as pd\n",
    "import matplotlib.pyplot as plt\n",
    "import seaborn as sns"
   ],
   "id": "initial_id",
   "outputs": [],
   "execution_count": 64
  },
  {
   "metadata": {
    "ExecuteTime": {
     "end_time": "2025-09-30T13:18:07.811148Z",
     "start_time": "2025-09-30T13:18:07.784881Z"
    }
   },
   "cell_type": "code",
   "source": [
    "df = pd.read_csv(r'C:\\Basic_Datascience_4ML\\assets\\data\\covid_toy.csv')\n",
    "df.sample(10)"
   ],
   "id": "fea020af2c9545d0",
   "outputs": [
    {
     "data": {
      "text/plain": [
       "    age  gender     fever   cough       city has_covid\n",
       "14   51    Male 104.00000    Mild  Bangalore        No\n",
       "45   72    Male  99.00000    Mild  Bangalore        No\n",
       "42   27    Male 100.00000    Mild      Delhi       Yes\n",
       "15   70    Male 103.00000  Strong    Kolkata       Yes\n",
       "84   69  Female  98.00000  Strong     Mumbai        No\n",
       "19   42  Female       NaN  Strong  Bangalore       Yes\n",
       "68   54  Female 104.00000  Strong    Kolkata        No\n",
       "76   80    Male 100.00000    Mild  Bangalore       Yes\n",
       "24   13  Female 100.00000  Strong    Kolkata        No\n",
       "35   82  Female 102.00000  Strong  Bangalore        No"
      ],
      "text/html": [
       "<div>\n",
       "<style scoped>\n",
       "    .dataframe tbody tr th:only-of-type {\n",
       "        vertical-align: middle;\n",
       "    }\n",
       "\n",
       "    .dataframe tbody tr th {\n",
       "        vertical-align: top;\n",
       "    }\n",
       "\n",
       "    .dataframe thead th {\n",
       "        text-align: right;\n",
       "    }\n",
       "</style>\n",
       "<table border=\"1\" class=\"dataframe\">\n",
       "  <thead>\n",
       "    <tr style=\"text-align: right;\">\n",
       "      <th></th>\n",
       "      <th>age</th>\n",
       "      <th>gender</th>\n",
       "      <th>fever</th>\n",
       "      <th>cough</th>\n",
       "      <th>city</th>\n",
       "      <th>has_covid</th>\n",
       "    </tr>\n",
       "  </thead>\n",
       "  <tbody>\n",
       "    <tr>\n",
       "      <th>14</th>\n",
       "      <td>51</td>\n",
       "      <td>Male</td>\n",
       "      <td>104.00000</td>\n",
       "      <td>Mild</td>\n",
       "      <td>Bangalore</td>\n",
       "      <td>No</td>\n",
       "    </tr>\n",
       "    <tr>\n",
       "      <th>45</th>\n",
       "      <td>72</td>\n",
       "      <td>Male</td>\n",
       "      <td>99.00000</td>\n",
       "      <td>Mild</td>\n",
       "      <td>Bangalore</td>\n",
       "      <td>No</td>\n",
       "    </tr>\n",
       "    <tr>\n",
       "      <th>42</th>\n",
       "      <td>27</td>\n",
       "      <td>Male</td>\n",
       "      <td>100.00000</td>\n",
       "      <td>Mild</td>\n",
       "      <td>Delhi</td>\n",
       "      <td>Yes</td>\n",
       "    </tr>\n",
       "    <tr>\n",
       "      <th>15</th>\n",
       "      <td>70</td>\n",
       "      <td>Male</td>\n",
       "      <td>103.00000</td>\n",
       "      <td>Strong</td>\n",
       "      <td>Kolkata</td>\n",
       "      <td>Yes</td>\n",
       "    </tr>\n",
       "    <tr>\n",
       "      <th>84</th>\n",
       "      <td>69</td>\n",
       "      <td>Female</td>\n",
       "      <td>98.00000</td>\n",
       "      <td>Strong</td>\n",
       "      <td>Mumbai</td>\n",
       "      <td>No</td>\n",
       "    </tr>\n",
       "    <tr>\n",
       "      <th>19</th>\n",
       "      <td>42</td>\n",
       "      <td>Female</td>\n",
       "      <td>NaN</td>\n",
       "      <td>Strong</td>\n",
       "      <td>Bangalore</td>\n",
       "      <td>Yes</td>\n",
       "    </tr>\n",
       "    <tr>\n",
       "      <th>68</th>\n",
       "      <td>54</td>\n",
       "      <td>Female</td>\n",
       "      <td>104.00000</td>\n",
       "      <td>Strong</td>\n",
       "      <td>Kolkata</td>\n",
       "      <td>No</td>\n",
       "    </tr>\n",
       "    <tr>\n",
       "      <th>76</th>\n",
       "      <td>80</td>\n",
       "      <td>Male</td>\n",
       "      <td>100.00000</td>\n",
       "      <td>Mild</td>\n",
       "      <td>Bangalore</td>\n",
       "      <td>Yes</td>\n",
       "    </tr>\n",
       "    <tr>\n",
       "      <th>24</th>\n",
       "      <td>13</td>\n",
       "      <td>Female</td>\n",
       "      <td>100.00000</td>\n",
       "      <td>Strong</td>\n",
       "      <td>Kolkata</td>\n",
       "      <td>No</td>\n",
       "    </tr>\n",
       "    <tr>\n",
       "      <th>35</th>\n",
       "      <td>82</td>\n",
       "      <td>Female</td>\n",
       "      <td>102.00000</td>\n",
       "      <td>Strong</td>\n",
       "      <td>Bangalore</td>\n",
       "      <td>No</td>\n",
       "    </tr>\n",
       "  </tbody>\n",
       "</table>\n",
       "</div>"
      ]
     },
     "execution_count": 65,
     "metadata": {},
     "output_type": "execute_result"
    }
   ],
   "execution_count": 65
  },
  {
   "metadata": {
    "ExecuteTime": {
     "end_time": "2025-09-30T13:20:15.022230Z",
     "start_time": "2025-09-30T13:20:15.011232Z"
    }
   },
   "cell_type": "code",
   "source": "df.value_counts('cough')",
   "id": "448fd65ac8945770",
   "outputs": [
    {
     "data": {
      "text/plain": [
       "cough\n",
       "Mild      62\n",
       "Strong    38\n",
       "Name: count, dtype: int64"
      ]
     },
     "execution_count": 73,
     "metadata": {},
     "output_type": "execute_result"
    }
   ],
   "execution_count": 73
  },
  {
   "metadata": {
    "ExecuteTime": {
     "end_time": "2025-09-30T13:18:08.185504Z",
     "start_time": "2025-09-30T13:18:08.170759Z"
    }
   },
   "cell_type": "code",
   "source": "df.count()",
   "id": "ba04e77536971d50",
   "outputs": [
    {
     "data": {
      "text/plain": [
       "age          100\n",
       "gender       100\n",
       "fever         90\n",
       "cough        100\n",
       "city         100\n",
       "has_covid    100\n",
       "dtype: int64"
      ]
     },
     "execution_count": 67,
     "metadata": {},
     "output_type": "execute_result"
    }
   ],
   "execution_count": 67
  },
  {
   "metadata": {
    "ExecuteTime": {
     "end_time": "2025-09-30T13:18:08.394365Z",
     "start_time": "2025-09-30T13:18:08.372975Z"
    }
   },
   "cell_type": "code",
   "source": "df.describe()",
   "id": "3c4e0996d5117da5",
   "outputs": [
    {
     "data": {
      "text/plain": [
       "            age     fever\n",
       "count 100.00000  90.00000\n",
       "mean   44.22000 100.84444\n",
       "std    24.87893   2.05493\n",
       "min     5.00000  98.00000\n",
       "25%    20.00000  99.00000\n",
       "50%    45.00000 101.00000\n",
       "75%    66.50000 102.75000\n",
       "max    84.00000 104.00000"
      ],
      "text/html": [
       "<div>\n",
       "<style scoped>\n",
       "    .dataframe tbody tr th:only-of-type {\n",
       "        vertical-align: middle;\n",
       "    }\n",
       "\n",
       "    .dataframe tbody tr th {\n",
       "        vertical-align: top;\n",
       "    }\n",
       "\n",
       "    .dataframe thead th {\n",
       "        text-align: right;\n",
       "    }\n",
       "</style>\n",
       "<table border=\"1\" class=\"dataframe\">\n",
       "  <thead>\n",
       "    <tr style=\"text-align: right;\">\n",
       "      <th></th>\n",
       "      <th>age</th>\n",
       "      <th>fever</th>\n",
       "    </tr>\n",
       "  </thead>\n",
       "  <tbody>\n",
       "    <tr>\n",
       "      <th>count</th>\n",
       "      <td>100.00000</td>\n",
       "      <td>90.00000</td>\n",
       "    </tr>\n",
       "    <tr>\n",
       "      <th>mean</th>\n",
       "      <td>44.22000</td>\n",
       "      <td>100.84444</td>\n",
       "    </tr>\n",
       "    <tr>\n",
       "      <th>std</th>\n",
       "      <td>24.87893</td>\n",
       "      <td>2.05493</td>\n",
       "    </tr>\n",
       "    <tr>\n",
       "      <th>min</th>\n",
       "      <td>5.00000</td>\n",
       "      <td>98.00000</td>\n",
       "    </tr>\n",
       "    <tr>\n",
       "      <th>25%</th>\n",
       "      <td>20.00000</td>\n",
       "      <td>99.00000</td>\n",
       "    </tr>\n",
       "    <tr>\n",
       "      <th>50%</th>\n",
       "      <td>45.00000</td>\n",
       "      <td>101.00000</td>\n",
       "    </tr>\n",
       "    <tr>\n",
       "      <th>75%</th>\n",
       "      <td>66.50000</td>\n",
       "      <td>102.75000</td>\n",
       "    </tr>\n",
       "    <tr>\n",
       "      <th>max</th>\n",
       "      <td>84.00000</td>\n",
       "      <td>104.00000</td>\n",
       "    </tr>\n",
       "  </tbody>\n",
       "</table>\n",
       "</div>"
      ]
     },
     "execution_count": 68,
     "metadata": {},
     "output_type": "execute_result"
    }
   ],
   "execution_count": 68
  },
  {
   "metadata": {
    "ExecuteTime": {
     "end_time": "2025-09-30T13:18:08.586321Z",
     "start_time": "2025-09-30T13:18:08.573243Z"
    }
   },
   "cell_type": "code",
   "source": "df.isnull().sum()\n",
   "id": "b64a0585aef1d282",
   "outputs": [
    {
     "data": {
      "text/plain": [
       "age           0\n",
       "gender        0\n",
       "fever        10\n",
       "cough         0\n",
       "city          0\n",
       "has_covid     0\n",
       "dtype: int64"
      ]
     },
     "execution_count": 69,
     "metadata": {},
     "output_type": "execute_result"
    }
   ],
   "execution_count": 69
  },
  {
   "metadata": {},
   "cell_type": "markdown",
   "source": "split the Data first",
   "id": "fdefbfd994077eaa"
  },
  {
   "metadata": {
    "ExecuteTime": {
     "end_time": "2025-09-30T13:48:50.826886Z",
     "start_time": "2025-09-30T13:48:50.815427Z"
    }
   },
   "cell_type": "code",
   "source": [
    "from  sklearn.model_selection import train_test_split\n",
    "X_train,X_test,y_train,y_test=train_test_split(df.drop('has_covid',axis=1),df[['has_covid']],test_size=0.2)\n",
    "X_train['fever']"
   ],
   "id": "ab419977fa91f94b",
   "outputs": [
    {
     "data": {
      "text/plain": [
       "38   101.00000\n",
       "65   102.00000\n",
       "84    98.00000\n",
       "37   100.00000\n",
       "86   104.00000\n",
       "        ...   \n",
       "53    98.00000\n",
       "68   104.00000\n",
       "47   104.00000\n",
       "45    99.00000\n",
       "35   102.00000\n",
       "Name: fever, Length: 80, dtype: float64"
      ]
     },
     "execution_count": 84,
     "metadata": {},
     "output_type": "execute_result"
    }
   ],
   "execution_count": 84
  },
  {
   "metadata": {
    "ExecuteTime": {
     "end_time": "2025-09-30T13:18:09.162333Z",
     "start_time": "2025-09-30T13:18:09.134213Z"
    }
   },
   "cell_type": "code",
   "source": [
    "from sklearn.impute import SimpleImputer\n",
    "si = SimpleImputer()\n",
    "X_train_imputed = si.fit_transform(X_train[['fever']]) # use double [[]] to pass single col as 2D frame and sklearn only take 2D frame\n",
    "X_test_imputed = si.transform(X_test[['fever']])\n",
    "np.ndim(X_train_imputed)\n",
    "print(X_train_imputed)"
   ],
   "id": "23fc7f947207b4a0",
   "outputs": [
    {
     "name": "stdout",
     "output_type": "stream",
     "text": [
      "[[ 99.        ]\n",
      " [103.        ]\n",
      " [ 98.        ]\n",
      " [100.        ]\n",
      " [104.        ]\n",
      " [ 99.        ]\n",
      " [102.        ]\n",
      " [104.        ]\n",
      " [100.        ]\n",
      " [102.        ]\n",
      " [ 98.        ]\n",
      " [101.        ]\n",
      " [104.        ]\n",
      " [ 98.        ]\n",
      " [ 98.        ]\n",
      " [100.90140845]\n",
      " [100.90140845]\n",
      " [ 99.        ]\n",
      " [104.        ]\n",
      " [ 99.        ]\n",
      " [ 99.        ]\n",
      " [101.        ]\n",
      " [100.90140845]\n",
      " [102.        ]\n",
      " [100.90140845]\n",
      " [101.        ]\n",
      " [100.90140845]\n",
      " [ 98.        ]\n",
      " [ 98.        ]\n",
      " [ 98.        ]\n",
      " [102.        ]\n",
      " [104.        ]\n",
      " [101.        ]\n",
      " [ 99.        ]\n",
      " [103.        ]\n",
      " [101.        ]\n",
      " [104.        ]\n",
      " [100.        ]\n",
      " [100.        ]\n",
      " [100.        ]\n",
      " [102.        ]\n",
      " [103.        ]\n",
      " [102.        ]\n",
      " [ 99.        ]\n",
      " [ 98.        ]\n",
      " [100.90140845]\n",
      " [ 98.        ]\n",
      " [100.90140845]\n",
      " [101.        ]\n",
      " [104.        ]\n",
      " [101.        ]\n",
      " [ 99.        ]\n",
      " [104.        ]\n",
      " [102.        ]\n",
      " [101.        ]\n",
      " [102.        ]\n",
      " [104.        ]\n",
      " [ 98.        ]\n",
      " [101.        ]\n",
      " [ 99.        ]\n",
      " [ 98.        ]\n",
      " [100.90140845]\n",
      " [103.        ]\n",
      " [103.        ]\n",
      " [100.90140845]\n",
      " [101.        ]\n",
      " [ 98.        ]\n",
      " [103.        ]\n",
      " [100.        ]\n",
      " [101.        ]\n",
      " [101.        ]\n",
      " [104.        ]\n",
      " [104.        ]\n",
      " [104.        ]\n",
      " [100.        ]\n",
      " [102.        ]\n",
      " [ 98.        ]\n",
      " [100.        ]\n",
      " [100.        ]\n",
      " [103.        ]]\n"
     ]
    }
   ],
   "execution_count": 71
  },
  {
   "metadata": {},
   "cell_type": "markdown",
   "source": "ordinal encoding",
   "id": "d1d55579a6522d00"
  },
  {
   "metadata": {},
   "cell_type": "code",
   "outputs": [
    {
     "name": "stdout",
     "output_type": "stream",
     "text": [
      "[[1.]\n",
      " [0.]\n",
      " [1.]\n",
      " [1.]\n",
      " [0.]\n",
      " [0.]\n",
      " [1.]\n",
      " [0.]\n",
      " [0.]\n",
      " [0.]\n",
      " [1.]\n",
      " [0.]\n",
      " [0.]\n",
      " [0.]\n",
      " [0.]\n",
      " [1.]\n",
      " [0.]\n",
      " [1.]\n",
      " [0.]\n",
      " [0.]\n",
      " [1.]\n",
      " [0.]\n",
      " [1.]\n",
      " [1.]\n",
      " [0.]\n",
      " [1.]\n",
      " [1.]\n",
      " [0.]\n",
      " [1.]\n",
      " [1.]\n",
      " [0.]\n",
      " [1.]\n",
      " [0.]\n",
      " [0.]\n",
      " [1.]\n",
      " [0.]\n",
      " [0.]\n",
      " [0.]\n",
      " [0.]\n",
      " [0.]\n",
      " [0.]\n",
      " [0.]\n",
      " [1.]\n",
      " [0.]\n",
      " [1.]\n",
      " [1.]\n",
      " [1.]\n",
      " [0.]\n",
      " [0.]\n",
      " [0.]\n",
      " [1.]\n",
      " [0.]\n",
      " [1.]\n",
      " [0.]\n",
      " [1.]\n",
      " [1.]\n",
      " [0.]\n",
      " [0.]\n",
      " [0.]\n",
      " [0.]\n",
      " [0.]\n",
      " [1.]\n",
      " [0.]\n",
      " [0.]\n",
      " [0.]\n",
      " [0.]\n",
      " [0.]\n",
      " [0.]\n",
      " [0.]\n",
      " [1.]\n",
      " [0.]\n",
      " [0.]\n",
      " [1.]\n",
      " [0.]\n",
      " [0.]\n",
      " [0.]\n",
      " [1.]\n",
      " [1.]\n",
      " [0.]\n",
      " [1.]]\n"
     ]
    }
   ],
   "execution_count": 75,
   "source": [
    "from sklearn.preprocessing import OrdinalEncoder\n",
    "oe = OrdinalEncoder(categories=[['Mild','Strong']])\n",
    "X_train_Encoded = oe.fit_transform(X_train[['cough']])\n",
    "X_test_Encoded = oe.transform(X_test[['cough']])\n",
    "print(X_train_Encoded)"
   ],
   "id": "7e15ca7d99a88883"
  },
  {
   "metadata": {
    "ExecuteTime": {
     "end_time": "2025-09-30T13:23:52.514321Z",
     "start_time": "2025-09-30T13:23:52.493213Z"
    }
   },
   "cell_type": "code",
   "source": [
    "from sklearn.preprocessing import OneHotEncoder\n",
    "ohe = OneHotEncoder(drop='first',sparse_output=False)\n",
    "X_train_Encoded = ohe.fit_transform(X_train[['gender','city']])\n",
    "X_test_Encoded = ohe.transform(X_test[['gender','city']])\n",
    "print(X_train_Encoded)"
   ],
   "id": "ba5f9f34d43ab5e5",
   "outputs": [
    {
     "name": "stdout",
     "output_type": "stream",
     "text": [
      "[[0. 1. 0. 0.]\n",
      " [0. 1. 0. 0.]\n",
      " [1. 0. 0. 1.]\n",
      " [0. 0. 0. 0.]\n",
      " [1. 0. 0. 0.]\n",
      " [1. 0. 0. 0.]\n",
      " [0. 0. 0. 0.]\n",
      " [1. 0. 0. 1.]\n",
      " [1. 0. 1. 0.]\n",
      " [1. 0. 0. 0.]\n",
      " [1. 0. 0. 0.]\n",
      " [0. 1. 0. 0.]\n",
      " [1. 0. 1. 0.]\n",
      " [0. 0. 1. 0.]\n",
      " [0. 0. 0. 1.]\n",
      " [1. 0. 1. 0.]\n",
      " [1. 0. 0. 1.]\n",
      " [0. 0. 0. 0.]\n",
      " [1. 0. 0. 1.]\n",
      " [1. 1. 0. 0.]\n",
      " [1. 0. 0. 0.]\n",
      " [1. 1. 0. 0.]\n",
      " [0. 0. 0. 0.]\n",
      " [0. 0. 1. 0.]\n",
      " [1. 0. 1. 0.]\n",
      " [1. 0. 0. 0.]\n",
      " [0. 0. 0. 1.]\n",
      " [1. 1. 0. 0.]\n",
      " [1. 0. 1. 0.]\n",
      " [0. 0. 0. 1.]\n",
      " [1. 0. 0. 1.]\n",
      " [0. 0. 1. 0.]\n",
      " [0. 0. 0. 1.]\n",
      " [0. 0. 0. 0.]\n",
      " [1. 0. 0. 0.]\n",
      " [0. 0. 1. 0.]\n",
      " [1. 0. 0. 0.]\n",
      " [0. 0. 1. 0.]\n",
      " [1. 1. 0. 0.]\n",
      " [1. 0. 1. 0.]\n",
      " [0. 1. 0. 0.]\n",
      " [0. 0. 0. 0.]\n",
      " [0. 1. 0. 0.]\n",
      " [0. 0. 0. 1.]\n",
      " [0. 0. 1. 0.]\n",
      " [0. 0. 0. 1.]\n",
      " [0. 0. 1. 0.]\n",
      " [0. 0. 0. 0.]\n",
      " [1. 1. 0. 0.]\n",
      " [0. 0. 0. 0.]\n",
      " [0. 0. 1. 0.]\n",
      " [0. 0. 0. 1.]\n",
      " [0. 1. 0. 0.]\n",
      " [1. 0. 1. 0.]\n",
      " [1. 0. 0. 0.]\n",
      " [1. 1. 0. 0.]\n",
      " [0. 0. 0. 0.]\n",
      " [1. 0. 0. 0.]\n",
      " [0. 1. 0. 0.]\n",
      " [1. 0. 0. 0.]\n",
      " [0. 0. 1. 0.]\n",
      " [1. 0. 1. 0.]\n",
      " [0. 0. 1. 0.]\n",
      " [0. 0. 1. 0.]\n",
      " [1. 1. 0. 0.]\n",
      " [0. 0. 0. 1.]\n",
      " [0. 1. 0. 0.]\n",
      " [1. 0. 1. 0.]\n",
      " [1. 0. 0. 0.]\n",
      " [0. 1. 0. 0.]\n",
      " [0. 0. 1. 0.]\n",
      " [0. 0. 1. 0.]\n",
      " [0. 0. 0. 0.]\n",
      " [1. 0. 1. 0.]\n",
      " [1. 1. 0. 0.]\n",
      " [0. 0. 0. 0.]\n",
      " [0. 0. 0. 1.]\n",
      " [0. 0. 1. 0.]\n",
      " [0. 0. 1. 0.]\n",
      " [1. 0. 1. 0.]]\n"
     ]
    }
   ],
   "execution_count": 76
  },
  {
   "metadata": {
    "ExecuteTime": {
     "end_time": "2025-09-30T13:26:21.124661Z",
     "start_time": "2025-09-30T13:26:21.114079Z"
    }
   },
   "cell_type": "code",
   "source": "df.nunique()",
   "id": "7b94b7a9a730bbfe",
   "outputs": [
    {
     "data": {
      "text/plain": [
       "age          55\n",
       "gender        2\n",
       "fever         7\n",
       "cough         2\n",
       "city          4\n",
       "has_covid     2\n",
       "dtype: int64"
      ]
     },
     "execution_count": 80,
     "metadata": {},
     "output_type": "execute_result"
    }
   ],
   "execution_count": 80
  },
  {
   "metadata": {},
   "cell_type": "markdown",
   "source": [
    "we can automate all above steps just by using sklearn.compose\n",
    "-------------------------------------------------------------------"
   ],
   "id": "790108b3504d0c31"
  },
  {
   "metadata": {
    "ExecuteTime": {
     "end_time": "2025-09-30T13:52:22.377994Z",
     "start_time": "2025-09-30T13:52:22.346986Z"
    }
   },
   "cell_type": "code",
   "source": [
    "\n",
    "from sklearn.preprocessing import OrdinalEncoder, OneHotEncoder\n",
    "from sklearn.compose import ColumnTransformer\n",
    "from sklearn.impute import SimpleImputer\n",
    "\n",
    "# Define transformer\n",
    "ct = ColumnTransformer(transformers=[\n",
    "    ('fever_imputer', SimpleImputer(strategy='constant', fill_value=0), ['fever']),\n",
    "    ('cough_encoder', OrdinalEncoder(categories=[['Mild', 'Strong']]), ['cough']),\n",
    "    ('ohe', OneHotEncoder(drop='first', sparse_output=False), ['gender', 'city'])\n",
    "], remainder='passthrough')\n",
    "\n",
    "# Fit and transform training data\n",
    "X_train_transformed = ct.fit_transform(X_train)\n",
    "\n",
    "# Transform test data\n",
    "X_test_transformed = ct.transform(X_test)\n",
    "\n",
    "print(X_train_transformed)\n"
   ],
   "id": "c6c184dbbcc40df3",
   "outputs": [
    {
     "name": "stdout",
     "output_type": "stream",
     "text": [
      "[[101.   0.   0.   1.   0.   0.  49.]\n",
      " [102.   0.   0.   0.   0.   0.  69.]\n",
      " [ 98.   1.   0.   0.   0.   1.  69.]\n",
      " [100.   0.   1.   0.   1.   0.  55.]\n",
      " [104.   0.   1.   0.   0.   0.  25.]\n",
      " [104.   0.   1.   0.   0.   0.  51.]\n",
      " [102.   0.   1.   0.   0.   0.  64.]\n",
      " [101.   0.   0.   0.   0.   1.  81.]\n",
      " [100.   0.   0.   0.   1.   0.   5.]\n",
      " [101.   0.   0.   0.   0.   0.  20.]\n",
      " [102.   1.   0.   0.   0.   0.  24.]\n",
      " [104.   0.   0.   0.   0.   0.  12.]\n",
      " [102.   1.   1.   1.   0.   0.  20.]\n",
      " [  0.   0.   1.   1.   0.   0.  38.]\n",
      " [104.   1.   0.   1.   0.   0.  75.]\n",
      " [103.   0.   1.   0.   1.   0.  83.]\n",
      " [104.   0.   1.   0.   1.   0.  16.]\n",
      " [ 98.   1.   0.   0.   0.   1.  81.]\n",
      " [102.   0.   0.   1.   0.   0.  49.]\n",
      " [101.   1.   0.   1.   0.   0.  68.]\n",
      " [  0.   1.   0.   0.   0.   1.  34.]\n",
      " [  0.   1.   0.   0.   0.   1.  20.]\n",
      " [104.   1.   0.   1.   0.   0.  34.]\n",
      " [100.   0.   0.   0.   1.   0.  19.]\n",
      " [100.   1.   0.   0.   0.   0.  47.]\n",
      " [  0.   0.   0.   1.   0.   0.  75.]\n",
      " [101.   0.   0.   0.   0.   1.  65.]\n",
      " [ 98.   0.   1.   0.   1.   0.  24.]\n",
      " [104.   1.   0.   0.   0.   0.  56.]\n",
      " [103.   1.   1.   0.   0.   0.  46.]\n",
      " [ 98.   0.   0.   1.   0.   0.  80.]\n",
      " [ 98.   1.   0.   1.   0.   0.  40.]\n",
      " [101.   0.   0.   0.   1.   0.   8.]\n",
      " [ 98.   1.   1.   0.   1.   0.  34.]\n",
      " [101.   0.   1.   1.   0.   0.  15.]\n",
      " [ 98.   1.   0.   0.   0.   1.   5.]\n",
      " [  0.   0.   0.   0.   0.   0.  84.]\n",
      " [103.   0.   0.   0.   1.   0.  48.]\n",
      " [ 99.   1.   0.   0.   0.   0.  49.]\n",
      " [100.   0.   1.   0.   1.   0.  27.]\n",
      " [  0.   0.   1.   0.   1.   0.  82.]\n",
      " [101.   0.   1.   1.   0.   0.  19.]\n",
      " [102.   0.   1.   0.   1.   0.   5.]\n",
      " [ 98.   1.   1.   0.   0.   1.  23.]\n",
      " [ 98.   0.   0.   0.   0.   1.  65.]\n",
      " [100.   0.   1.   0.   0.   0.  11.]\n",
      " [ 99.   0.   1.   1.   0.   0.  65.]\n",
      " [102.   0.   1.   0.   0.   1.  74.]\n",
      " [104.   0.   1.   0.   1.   0.  51.]\n",
      " [103.   1.   1.   0.   1.   0.  70.]\n",
      " [ 99.   1.   0.   1.   0.   0.  59.]\n",
      " [  0.   0.   1.   0.   0.   1.  23.]\n",
      " [103.   0.   0.   1.   0.   0.  73.]\n",
      " [ 98.   1.   0.   0.   1.   0.  71.]\n",
      " [101.   0.   0.   0.   0.   0.  38.]\n",
      " [101.   0.   0.   0.   1.   0.  83.]\n",
      " [ 98.   0.   1.   0.   0.   0.  73.]\n",
      " [104.   0.   1.   0.   0.   1.  44.]\n",
      " [ 99.   1.   1.   0.   0.   0.  66.]\n",
      " [104.   0.   0.   0.   1.   0.  17.]\n",
      " [100.   0.   1.   1.   0.   0.  27.]\n",
      " [101.   1.   1.   0.   0.   0.  14.]\n",
      " [104.   0.   1.   0.   0.   1.  42.]\n",
      " [101.   0.   0.   1.   0.   0.  64.]\n",
      " [  0.   1.   0.   0.   0.   0.  42.]\n",
      " [ 98.   1.   0.   0.   1.   0.  10.]\n",
      " [ 98.   0.   0.   0.   0.   0.  64.]\n",
      " [101.   0.   1.   1.   0.   0.  42.]\n",
      " [101.   1.   1.   0.   0.   0.  47.]\n",
      " [104.   0.   0.   0.   1.   0.   6.]\n",
      " [103.   0.   1.   0.   1.   0.  60.]\n",
      " [103.   0.   0.   0.   1.   0.  69.]\n",
      " [100.   0.   1.   1.   0.   0.  27.]\n",
      " [101.   1.   0.   0.   1.   0.  51.]\n",
      " [100.   1.   0.   0.   1.   0.  11.]\n",
      " [ 98.   0.   1.   1.   0.   0.  83.]\n",
      " [104.   1.   0.   0.   1.   0.  54.]\n",
      " [104.   0.   0.   0.   0.   0.  18.]\n",
      " [ 99.   0.   1.   0.   0.   0.  72.]\n",
      " [102.   1.   0.   0.   0.   0.  82.]]\n"
     ]
    }
   ],
   "execution_count": 89
  }
 ],
 "metadata": {
  "kernelspec": {
   "display_name": "Python 3",
   "language": "python",
   "name": "python3"
  },
  "language_info": {
   "codemirror_mode": {
    "name": "ipython",
    "version": 2
   },
   "file_extension": ".py",
   "mimetype": "text/x-python",
   "name": "python",
   "nbconvert_exporter": "python",
   "pygments_lexer": "ipython2",
   "version": "2.7.6"
  }
 },
 "nbformat": 4,
 "nbformat_minor": 5
}
