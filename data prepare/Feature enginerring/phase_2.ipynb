{
 "cells": [
  {
   "metadata": {},
   "cell_type": "markdown",
   "source": [
    "# 📘 Encoding Categorical Variables\n",
    "\n",
    "### 🔹 Why Encoding is Needed\n",
    "- Machine learning models require **numerical input**.\n",
    "- Categorical variables (strings/labels) must be **converted to numbers**.\n",
    "\n",
    "---\n",
    "\n",
    "### 🔹 Common Methods\n",
    "\n",
    "1. **Label Encoding**\n",
    "- Converts each category to a **unique integer**.\n",
    "- Example: `[\"Red\", \"Green\", \"Blue\"] → [0, 1, 2]`\n",
    "- Use for **ordinal categories** (with order).\n",
    "\n",
    "2. **One-Hot Encoding**\n",
    "- Creates **binary columns** for each category.\n",
    "- Example: `[\"Red\", \"Green\", \"Blue\"] → Red=[1,0,0], Green=[0,1,0], Blue=[0,0,1]`\n",
    "- Use for **nominal categories** (no order).\n",
    "\n",
    "3. **Ordinal Encoding**\n",
    "- Similar to label encoding but preserves **custom order**.\n",
    "- Example: `[\"Low\", \"Medium\", \"High\"] → [0, 1, 2]`\n",
    "\n",
    "---\n",
    "\n",
    "### 🔹 Libraries in Python\n",
    "```python\n",
    "from sklearn.preprocessing import LabelEncoder, OneHotEncoder\n",
    "import pandas as pd\n",
    "\n",
    "# Label Encoding\n",
    "le = LabelEncoder()\n",
    "df['Color_encoded'] = le.fit_transform(df['Color'])\n",
    "\n",
    "# One-Hot Encoding\n",
    "df = pd.get_dummies(df, columns=['Color'])\n"
   ],
   "id": "cc380a2ff25a088a"
  },
  {
   "metadata": {
    "ExecuteTime": {
     "end_time": "2025-09-20T12:12:19.684251Z",
     "start_time": "2025-09-20T12:12:19.679286Z"
    }
   },
   "cell_type": "code",
   "source": [
    "import numpy as np\n",
    "import pandas as pd\n",
    "import matplotlib.pyplot as plt\n",
    "import seaborn as sns\n"
   ],
   "id": "5f0fc5fb527f4fae",
   "outputs": [],
   "execution_count": 196
  },
  {
   "metadata": {
    "ExecuteTime": {
     "end_time": "2025-09-20T12:12:19.743565Z",
     "start_time": "2025-09-20T12:12:19.730072Z"
    }
   },
   "cell_type": "code",
   "source": [
    "df = pd.read_csv(r'C:\\Basic_Datascience_4ML\\assets\\data\\customer.csv')\n",
    "df.head()"
   ],
   "id": "ad0cd58eafb28bde",
   "outputs": [
    {
     "data": {
      "text/plain": [
       "   age  gender   review education purchased\n",
       "0   30  Female  Average    School        No\n",
       "1   68  Female     Poor        UG        No\n",
       "2   70  Female     Good        PG        No\n",
       "3   72  Female     Good        PG        No\n",
       "4   16  Female  Average        UG        No"
      ],
      "text/html": [
       "<div>\n",
       "<style scoped>\n",
       "    .dataframe tbody tr th:only-of-type {\n",
       "        vertical-align: middle;\n",
       "    }\n",
       "\n",
       "    .dataframe tbody tr th {\n",
       "        vertical-align: top;\n",
       "    }\n",
       "\n",
       "    .dataframe thead th {\n",
       "        text-align: right;\n",
       "    }\n",
       "</style>\n",
       "<table border=\"1\" class=\"dataframe\">\n",
       "  <thead>\n",
       "    <tr style=\"text-align: right;\">\n",
       "      <th></th>\n",
       "      <th>age</th>\n",
       "      <th>gender</th>\n",
       "      <th>review</th>\n",
       "      <th>education</th>\n",
       "      <th>purchased</th>\n",
       "    </tr>\n",
       "  </thead>\n",
       "  <tbody>\n",
       "    <tr>\n",
       "      <th>0</th>\n",
       "      <td>30</td>\n",
       "      <td>Female</td>\n",
       "      <td>Average</td>\n",
       "      <td>School</td>\n",
       "      <td>No</td>\n",
       "    </tr>\n",
       "    <tr>\n",
       "      <th>1</th>\n",
       "      <td>68</td>\n",
       "      <td>Female</td>\n",
       "      <td>Poor</td>\n",
       "      <td>UG</td>\n",
       "      <td>No</td>\n",
       "    </tr>\n",
       "    <tr>\n",
       "      <th>2</th>\n",
       "      <td>70</td>\n",
       "      <td>Female</td>\n",
       "      <td>Good</td>\n",
       "      <td>PG</td>\n",
       "      <td>No</td>\n",
       "    </tr>\n",
       "    <tr>\n",
       "      <th>3</th>\n",
       "      <td>72</td>\n",
       "      <td>Female</td>\n",
       "      <td>Good</td>\n",
       "      <td>PG</td>\n",
       "      <td>No</td>\n",
       "    </tr>\n",
       "    <tr>\n",
       "      <th>4</th>\n",
       "      <td>16</td>\n",
       "      <td>Female</td>\n",
       "      <td>Average</td>\n",
       "      <td>UG</td>\n",
       "      <td>No</td>\n",
       "    </tr>\n",
       "  </tbody>\n",
       "</table>\n",
       "</div>"
      ]
     },
     "execution_count": 197,
     "metadata": {},
     "output_type": "execute_result"
    }
   ],
   "execution_count": 197
  },
  {
   "metadata": {
    "ExecuteTime": {
     "end_time": "2025-09-20T12:12:19.852955Z",
     "start_time": "2025-09-20T12:12:19.846893Z"
    }
   },
   "cell_type": "code",
   "source": "df = df.iloc[:,2:]",
   "id": "b2d840628f41617d",
   "outputs": [],
   "execution_count": 198
  },
  {
   "metadata": {
    "ExecuteTime": {
     "end_time": "2025-09-20T12:12:20.143637Z",
     "start_time": "2025-09-20T12:12:20.129928Z"
    }
   },
   "cell_type": "code",
   "source": "df.head()",
   "id": "5a6e5470f4ca4645",
   "outputs": [
    {
     "data": {
      "text/plain": [
       "    review education purchased\n",
       "0  Average    School        No\n",
       "1     Poor        UG        No\n",
       "2     Good        PG        No\n",
       "3     Good        PG        No\n",
       "4  Average        UG        No"
      ],
      "text/html": [
       "<div>\n",
       "<style scoped>\n",
       "    .dataframe tbody tr th:only-of-type {\n",
       "        vertical-align: middle;\n",
       "    }\n",
       "\n",
       "    .dataframe tbody tr th {\n",
       "        vertical-align: top;\n",
       "    }\n",
       "\n",
       "    .dataframe thead th {\n",
       "        text-align: right;\n",
       "    }\n",
       "</style>\n",
       "<table border=\"1\" class=\"dataframe\">\n",
       "  <thead>\n",
       "    <tr style=\"text-align: right;\">\n",
       "      <th></th>\n",
       "      <th>review</th>\n",
       "      <th>education</th>\n",
       "      <th>purchased</th>\n",
       "    </tr>\n",
       "  </thead>\n",
       "  <tbody>\n",
       "    <tr>\n",
       "      <th>0</th>\n",
       "      <td>Average</td>\n",
       "      <td>School</td>\n",
       "      <td>No</td>\n",
       "    </tr>\n",
       "    <tr>\n",
       "      <th>1</th>\n",
       "      <td>Poor</td>\n",
       "      <td>UG</td>\n",
       "      <td>No</td>\n",
       "    </tr>\n",
       "    <tr>\n",
       "      <th>2</th>\n",
       "      <td>Good</td>\n",
       "      <td>PG</td>\n",
       "      <td>No</td>\n",
       "    </tr>\n",
       "    <tr>\n",
       "      <th>3</th>\n",
       "      <td>Good</td>\n",
       "      <td>PG</td>\n",
       "      <td>No</td>\n",
       "    </tr>\n",
       "    <tr>\n",
       "      <th>4</th>\n",
       "      <td>Average</td>\n",
       "      <td>UG</td>\n",
       "      <td>No</td>\n",
       "    </tr>\n",
       "  </tbody>\n",
       "</table>\n",
       "</div>"
      ]
     },
     "execution_count": 199,
     "metadata": {},
     "output_type": "execute_result"
    }
   ],
   "execution_count": 199
  },
  {
   "metadata": {
    "ExecuteTime": {
     "end_time": "2025-09-20T12:12:20.315042Z",
     "start_time": "2025-09-20T12:12:20.300804Z"
    }
   },
   "cell_type": "code",
   "source": [
    "from sklearn.model_selection import train_test_split\n",
    "\n",
    "X_train, X_test, y_train, y_test = train_test_split(\n",
    "    df.iloc[:, 0:2],    # Selects all rows, columns 0 and 1 (features)\n",
    "    df.iloc[:, -1],     # Selects all rows, last column (target/label)\n",
    "    test_size=0.2\n",
    ")\n",
    "print(X_train.head())"
   ],
   "id": "8d6b781f641e563f",
   "outputs": [
    {
     "name": "stdout",
     "output_type": "stream",
     "text": [
      "     review education\n",
      "18     Good    School\n",
      "38     Good    School\n",
      "10     Good        UG\n",
      "24  Average        PG\n",
      "0   Average    School\n"
     ]
    }
   ],
   "execution_count": 200
  },
  {
   "metadata": {},
   "cell_type": "markdown",
   "source": [
    "# 📘 OrdinalEncoder vs LabelEncoder\n",
    "\n",
    "### 🔹 LabelEncoder\n",
    "- Used for **1-D target labels (y)** in supervised learning.\n",
    "- Converts categories into integers:\n",
    "  `[\"cat\",\"dog\",\"mouse\"] → [0,1,2]`\n",
    "- Works only on a **single column**.\n",
    "- Example: encoding `y_train` in classification,  it creates a **fake order** (e.g., Cat=0, Dog=1, Mouse=2), which can **mislead ML models**. .\n",
    "\n",
    "### 🔹 OrdinalEncoder\n",
    "- Used for **2-D feature columns (X)**.\n",
    "- Converts each categorical column into integers.\n",
    "- Example:\n",
    "  | Size     | → | Encoded |\n",
    "  |----------|--|----------|\n",
    "  | Small    | → | 0        |\n",
    "  | Medium   | → | 1        |\n",
    "  | Large    | → | 2        |\n",
    "\n",
    "✅ **Rule of Thumb**\n",
    "- Use **LabelEncoder → y (target variable)**\n",
    "- Use **OrdinalEncoder → X (features with ordinal categories)**\n"
   ],
   "id": "387c1b43cb3c2060"
  },
  {
   "metadata": {
    "ExecuteTime": {
     "end_time": "2025-09-20T12:12:20.474560Z",
     "start_time": "2025-09-20T12:12:20.465116Z"
    }
   },
   "cell_type": "code",
   "source": [
    "from sklearn.preprocessing import OrdinalEncoder\n",
    "oe = OrdinalEncoder(categories=[['Poor','Average','Good'],['School','UG','PG']])\n",
    "oe.fit(X_train)\n",
    "X_train_Encoded = oe.transform(X_train)\n",
    "X_test_Encoded = oe.transform(X_test)\n",
    "print(X_train)"
   ],
   "id": "df3bf912304aabf8",
   "outputs": [
    {
     "name": "stdout",
     "output_type": "stream",
     "text": [
      "     review education\n",
      "18     Good    School\n",
      "38     Good    School\n",
      "10     Good        UG\n",
      "24  Average        PG\n",
      "0   Average    School\n",
      "17     Poor        UG\n",
      "15     Poor        UG\n",
      "43     Poor        PG\n",
      "39     Poor        PG\n",
      "7      Poor    School\n",
      "49     Good        UG\n",
      "1      Poor        UG\n",
      "11     Good        UG\n",
      "35     Poor    School\n",
      "30  Average        UG\n",
      "22     Poor        PG\n",
      "27     Poor        PG\n",
      "42     Good        PG\n",
      "16     Poor        UG\n",
      "44  Average        UG\n",
      "32  Average        UG\n",
      "37  Average        PG\n",
      "8   Average        UG\n",
      "19     Poor        PG\n",
      "20  Average    School\n",
      "23     Good    School\n",
      "5   Average    School\n",
      "9      Good        UG\n",
      "26     Poor        PG\n",
      "46     Poor        PG\n",
      "48     Good        UG\n",
      "29  Average        UG\n",
      "4   Average        UG\n",
      "13  Average    School\n",
      "33     Good        PG\n",
      "6      Good    School\n",
      "40     Good    School\n",
      "21  Average        PG\n",
      "28     Poor    School\n",
      "3      Good        PG\n"
     ]
    }
   ],
   "execution_count": 201
  },
  {
   "metadata": {
    "ExecuteTime": {
     "end_time": "2025-09-20T12:12:20.749746Z",
     "start_time": "2025-09-20T12:12:20.742412Z"
    }
   },
   "cell_type": "code",
   "source": [
    "X_train_Encoded = pd.DataFrame(X_train_Encoded,columns=['review','education'])\n",
    "print(df.head())"
   ],
   "id": "55bc3064e87110d5",
   "outputs": [
    {
     "name": "stdout",
     "output_type": "stream",
     "text": [
      "    review education purchased\n",
      "0  Average    School        No\n",
      "1     Poor        UG        No\n",
      "2     Good        PG        No\n",
      "3     Good        PG        No\n",
      "4  Average        UG        No\n"
     ]
    }
   ],
   "execution_count": 202
  },
  {
   "metadata": {
    "ExecuteTime": {
     "end_time": "2025-09-20T12:12:20.890724Z",
     "start_time": "2025-09-20T12:12:20.881112Z"
    }
   },
   "cell_type": "code",
   "source": [
    "from sklearn.preprocessing import LabelEncoder\n",
    "le = LabelEncoder()\n",
    "le.fit(y_train)\n",
    "y_train_Encoded = le.transform(y_train)\n",
    "y_test_Encoded = le.transform(y_train)\n",
    "print(y_test_Encoded)\n"
   ],
   "id": "86d3a1ab2e34984",
   "outputs": [
    {
     "name": "stdout",
     "output_type": "stream",
     "text": [
      "[0 0 0 0 1 0 0 0 1 1 0 1 0 1 1 0 0 1 1 1 1 0 0 1 0 0 1 0 0 1 0 1 1 0 1 0 0\n",
      " 0 1 1]\n"
     ]
    }
   ],
   "execution_count": 203
  },
  {
   "metadata": {
    "ExecuteTime": {
     "end_time": "2025-09-20T12:12:20.987331Z",
     "start_time": "2025-09-20T12:12:20.980474Z"
    }
   },
   "cell_type": "code",
   "source": "y_train_Encoded=pd.Series(y_train_Encoded,name='Purchased')",
   "id": "71ac043daf259100",
   "outputs": [],
   "execution_count": 204
  },
  {
   "metadata": {
    "ExecuteTime": {
     "end_time": "2025-09-20T12:12:21.048174Z",
     "start_time": "2025-09-20T12:12:21.035482Z"
    }
   },
   "cell_type": "code",
   "source": [
    "final_df = pd.concat([X_train_Encoded, y_train_Encoded], axis=1)\n",
    "print(final_df.head())"
   ],
   "id": "17c5df4e46dd811f",
   "outputs": [
    {
     "name": "stdout",
     "output_type": "stream",
     "text": [
      "   review  education  Purchased\n",
      "0     2.0        0.0          0\n",
      "1     2.0        0.0          0\n",
      "2     2.0        1.0          1\n",
      "3     1.0        2.0          1\n",
      "4     1.0        0.0          0\n"
     ]
    }
   ],
   "execution_count": 205
  }
 ],
 "metadata": {
  "kernelspec": {
   "display_name": "Python 3",
   "language": "python",
   "name": "python3"
  },
  "language_info": {
   "codemirror_mode": {
    "name": "ipython",
    "version": 2
   },
   "file_extension": ".py",
   "mimetype": "text/x-python",
   "name": "python",
   "nbconvert_exporter": "python",
   "pygments_lexer": "ipython2",
   "version": "2.7.6"
  }
 },
 "nbformat": 4,
 "nbformat_minor": 5
}
