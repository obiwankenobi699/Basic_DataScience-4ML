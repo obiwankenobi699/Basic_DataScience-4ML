{
 "cells": [
  {
   "metadata": {},
   "cell_type": "markdown",
   "source": [
    "# 📘 Encoding Categorical Variables\n",
    "\n",
    "### 🔹 Why Encoding is Needed\n",
    "- Machine learning models require **numerical input**.\n",
    "- Categorical variables (strings/labels) must be **converted to numbers**.\n",
    "\n",
    "---\n",
    "\n",
    "### 🔹 Common Methods\n",
    "\n",
    "1. **Label Encoding**\n",
    "- Converts each category to a **unique integer**.\n",
    "- Example: `[\"Red\", \"Green\", \"Blue\"] → [0, 1, 2]`\n",
    "- Use for **ordinal categories** (with order).\n",
    "\n",
    "2. **One-Hot Encoding**\n",
    "- Creates **binary columns** for each category.\n",
    "- Example: `[\"Red\", \"Green\", \"Blue\"] → Red=[1,0,0], Green=[0,1,0], Blue=[0,0,1]`\n",
    "- Use for **nominal categories** (no order).\n",
    "\n",
    "3. **Ordinal Encoding**\n",
    "- Similar to label encoding but preserves **custom order**.\n",
    "- Example: `[\"Low\", \"Medium\", \"High\"] → [0, 1, 2]`\n",
    "\n",
    "---\n",
    "\n",
    "### 🔹 Libraries in Python\n",
    "```python\n",
    "from sklearn.preprocessing import LabelEncoder, OneHotEncoder\n",
    "import pandas as pd\n",
    "\n",
    "# Label Encoding\n",
    "le = LabelEncoder()\n",
    "df['Color_encoded'] = le.fit_transform(df['Color'])\n",
    "\n",
    "# One-Hot Encoding\n",
    "df = pd.get_dummies(df, columns=['Color'])\n"
   ],
   "id": "cc380a2ff25a088a"
  },
  {
   "metadata": {},
   "cell_type": "code",
   "source": [
    "import numpy as np\n",
    "import pandas as pd\n",
    "import matplotlib.pyplot as plt\n",
    "import seaborn as sns\n"
   ],
   "id": "5f0fc5fb527f4fae",
   "outputs": [],
   "execution_count": null
  },
  {
   "metadata": {},
   "cell_type": "code",
   "source": [
    "df = pd.read_csv(r'C:\\Basic_Datascience_4ML\\assets\\data\\customer.csv')\n",
    "df.head()\n",
    "a = df['gender'].value_counts().nunique()\n",
    "print(a)"
   ],
   "id": "ad0cd58eafb28bde",
   "outputs": [],
   "execution_count": null
  },
  {
   "metadata": {},
   "cell_type": "code",
   "source": "df = df.iloc[:,2:]",
   "id": "b2d840628f41617d",
   "outputs": [],
   "execution_count": null
  },
  {
   "metadata": {},
   "cell_type": "code",
   "source": "df.head()",
   "id": "5a6e5470f4ca4645",
   "outputs": [],
   "execution_count": null
  },
  {
   "metadata": {},
   "cell_type": "code",
   "source": [
    "from sklearn.model_selection import train_test_split\n",
    "\n",
    "X_train, X_test, y_train, y_test = train_test_split(\n",
    "    df.iloc[:, 0:2],    # Selects all rows, columns 0 and 1 (features)\n",
    "    df.iloc[:, -1],     # Selects all rows, last column (target/label)\n",
    "    test_size=0.2\n",
    ")\n",
    "print(X_train.head())"
   ],
   "id": "8d6b781f641e563f",
   "outputs": [],
   "execution_count": null
  },
  {
   "metadata": {},
   "cell_type": "markdown",
   "source": [
    "# 📘 OrdinalEncoder vs LabelEncoder\n",
    "\n",
    "### 🔹 LabelEncoder\n",
    "- Used for **1-D target labels (y)** in supervised learning.\n",
    "- Converts categories into integers:\n",
    "  `[\"cat\",\"dog\",\"mouse\"] → [0,1,2]`\n",
    "- Works only on a **single column**.\n",
    "- Example: encoding `y_train` in classification,  it creates a **fake order** (e.g., Cat=0, Dog=1, Mouse=2), which can **mislead ML models**. .\n",
    "\n",
    "### 🔹 OrdinalEncoder\n",
    "- Used for **2-D feature columns (X)**.\n",
    "- Converts each categorical column into integers.\n",
    "- Example:\n",
    "  | Size     | → | Encoded |\n",
    "  |----------|--|----------|\n",
    "  | Small    | → | 0        |\n",
    "  | Medium   | → | 1        |\n",
    "  | Large    | → | 2        |\n",
    "\n",
    "✅ **Rule of Thumb**\n",
    "- Use **LabelEncoder → y (target variable)**\n",
    "- Use **OrdinalEncoder → X (features with ordinal categories)**\n"
   ],
   "id": "387c1b43cb3c2060"
  },
  {
   "metadata": {},
   "cell_type": "code",
   "source": [
    "from sklearn.preprocessing import OrdinalEncoder\n",
    "oe = OrdinalEncoder(categories=[['Poor','Average','Good'],['School','UG','PG']])\n",
    "oe.fit(X_train)\n",
    "X_train_Encoded = oe.transform(X_train)\n",
    "X_test_Encoded = oe.transform(X_test)\n",
    "print(X_train)"
   ],
   "id": "df3bf912304aabf8",
   "outputs": [],
   "execution_count": null
  },
  {
   "metadata": {},
   "cell_type": "code",
   "source": [
    "X_train_Encoded = pd.DataFrame(X_train_Encoded,columns=['review','education'])\n",
    "print(df.head())"
   ],
   "id": "55bc3064e87110d5",
   "outputs": [],
   "execution_count": null
  },
  {
   "metadata": {},
   "cell_type": "code",
   "source": [
    "from sklearn.preprocessing import LabelEncoder\n",
    "le = LabelEncoder()\n",
    "le.fit(y_train)\n",
    "y_train_Encoded = le.transform(y_train)\n",
    "y_test_Encoded = le.transform(y_train)\n",
    "print(y_test_Encoded)\n"
   ],
   "id": "86d3a1ab2e34984",
   "outputs": [],
   "execution_count": null
  },
  {
   "metadata": {},
   "cell_type": "code",
   "source": "y_train_Encoded=pd.Series(y_train_Encoded,name='Purchased')",
   "id": "71ac043daf259100",
   "outputs": [],
   "execution_count": null
  },
  {
   "metadata": {},
   "cell_type": "code",
   "source": [
    "final_df = pd.concat([X_train_Encoded, y_train_Encoded], axis=1)\n",
    "print(final_df.head())"
   ],
   "id": "17c5df4e46dd811f",
   "outputs": [],
   "execution_count": null
  },
  {
   "metadata": {},
   "cell_type": "markdown",
   "source": [
    "# 📘 One-Hot Encoding (OHE)\n",
    "\n",
    "### 🔹 Theory\n",
    "- One-Hot Encoding is used for **nominal categorical data** (categories without order).\n",
    "- It creates a new **binary column (0/1)** for each category.\n",
    "- Example: \"Red\", \"Green\", \"Blue\"\n",
    "\n",
    "| Red | Green | Blue |\n",
    "|-----|-------|------|\n",
    "|  1  |   0   |   0  |\n",
    "|  0  |   1   |   0  |\n",
    "|  0  |   0   |   1  |\n",
    "\n",
    "---\n",
    "\n",
    "### 🔹 Why use **n-1 Columns (Dummy Variable Trap)?**\n",
    "- If we keep all `n` dummy variables, they become **linearly dependent**.\n",
    "  - Example: If you know `Red=0` and `Green=0`, then `Blue` must be `1`.\n",
    "  - This introduces **multicollinearity** in models like **Linear Regression**.\n",
    "- To avoid this, we drop one column → use **n-1 dummies**.\n",
    "- The dropped category is still represented implicitly.\n",
    "  - Example: If we drop \"Blue\", then:\n",
    "    - Red=1 → Red\n",
    "    - Green=1 → Green\n",
    "    - Both Red=0 and Green=0 → Blue\n",
    "\n",
    "✅ This is called avoiding the **dummy variable trap**.\n",
    "\n",
    "---\n",
    "\n",
    "### 🔹 Summary\n",
    "- **OHE** → For nominal categorical features.\n",
    "- **n columns** → safe for tree-based models (no collinearity issue).\n",
    "- **n-1 columns** → better for linear models (avoids redundancy).\n"
   ],
   "id": "a41ab95197b32fac"
  },
  {
   "metadata": {},
   "cell_type": "code",
   "source": [
    "df = pd.read_csv(r'C:\\Basic_Datascience_4ML\\assets\\data\\cars.csv')\n",
    "df['brand'].value_counts().nunique()"
   ],
   "id": "f37c8a11f7f4d4e5",
   "outputs": [],
   "execution_count": null
  },
  {
   "metadata": {},
   "cell_type": "markdown",
   "source": [
    "ohi using only pandas\n",
    "in this new row have col_category and we dont use it because it forgets the addition and removealof col my the user"
   ],
   "id": "acb7d2d59ed13000"
  },
  {
   "metadata": {},
   "cell_type": "code",
   "source": "pd.get_dummies(data=df,columns=['fuel','owner'],drop_first=True).head()\n",
   "id": "d7c0853fe2006377",
   "outputs": [],
   "execution_count": null
  },
  {
   "metadata": {},
   "cell_type": "markdown",
   "source": "onehot encoding using sklearn",
   "id": "3a07d842c9cb3e0d"
  },
  {
   "metadata": {},
   "cell_type": "code",
   "source": [
    "from sklearn.model_selection import train_test_split\n",
    "X_train, X_test, y_train, y_test = train_test_split(df.iloc[:, 0:4], df.iloc[:, -1], test_size=0.2)\n",
    "print(X_train)"
   ],
   "id": "ff23154667654c6e",
   "outputs": [],
   "execution_count": null
  },
  {
   "metadata": {},
   "cell_type": "markdown",
   "source": "",
   "id": "492e99d548cbac7a"
  },
  {
   "metadata": {},
   "cell_type": "code",
   "source": [
    "from sklearn.preprocessing import OneHotEncoder\n",
    "ohe = OneHotEncoder(handle_unknown='ignore')\n",
    "X_test_Encoded = ohe.fit_transform(X_test[['fuel','owner']])\n",
    "X_train_Encoded = ohe.fit_transform(X_train[['fuel','owner']]).toarray()\n",
    "print(X_train_Encoded)\n",
    "print(X_train)"
   ],
   "id": "f3498998280a8886",
   "outputs": [],
   "execution_count": null
  },
  {
   "metadata": {},
   "cell_type": "code",
   "source": "Table = np.hstack((X_train[['brand','km_driven']].values, X_train_Encoded))\n",
   "id": "64d0411b5c4de70d",
   "outputs": [],
   "execution_count": null
  },
  {
   "metadata": {},
   "cell_type": "markdown",
   "source": [
    "if it is pandas and want a array to values ,\n",
    "if it is matrix and want to do array  do toarrays once they all are array simply do hstack(x,y)\n",
    "------------------------------------------------------------------------------------------------------------------------------------------------"
   ],
   "id": "e85ef0452fb178f9"
  },
  {
   "metadata": {},
   "cell_type": "code",
   "source": [
    "d = pd.DataFrame(Table)\n",
    "print(df.head())\n",
    "print(d.iloc[:,2:].mean())"
   ],
   "id": "7dbb2cab084fa5a5",
   "outputs": [],
   "execution_count": null
  },
  {
   "metadata": {},
   "cell_type": "markdown",
   "source": "now making a new col in which car brands less then 100 is inside that col",
   "id": "cb4ee0551aed0dcf"
  },
  {
   "metadata": {},
   "cell_type": "code",
   "source": [
    "# Count brands\n",
    "count = df['brand'].value_counts()\n",
    "print(count)\n",
    "\n",
    "# Rare brands (freq < 100)\n",
    "rare_brands = count[count < 100].index\n",
    "print(rare_brands)\n",
    "\n",
    "# Replace rare brands with \"uncommon\"\n",
    "df['brand_clean'] = df['brand'].replace(rare_brands, 'uncommon')\n",
    "\n",
    "# One-hot encoding\n",
    "new = pd.get_dummies(df['brand_clean'])\n",
    "print(new.head())\n"
   ],
   "id": "a987dadea38a07ce",
   "outputs": [],
   "execution_count": null
  },
  {
   "metadata": {},
   "cell_type": "code",
   "source": "",
   "id": "ad36cdca9e36f842",
   "outputs": [],
   "execution_count": null
  }
 ],
 "metadata": {
  "kernelspec": {
   "display_name": "Python 3",
   "language": "python",
   "name": "python3"
  },
  "language_info": {
   "codemirror_mode": {
    "name": "ipython",
    "version": 2
   },
   "file_extension": ".py",
   "mimetype": "text/x-python",
   "name": "python",
   "nbconvert_exporter": "python",
   "pygments_lexer": "ipython2",
   "version": "2.7.6"
  }
 },
 "nbformat": 4,
 "nbformat_minor": 5
}
