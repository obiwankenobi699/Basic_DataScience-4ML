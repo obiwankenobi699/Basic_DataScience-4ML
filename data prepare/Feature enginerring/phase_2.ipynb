{
 "cells": [
  {
   "metadata": {},
   "cell_type": "markdown",
   "source": [
    "# 📘 Encoding Categorical Variables\n",
    "\n",
    "### 🔹 Why Encoding is Needed\n",
    "- Machine learning models require **numerical input**.\n",
    "- Categorical variables (strings/labels) must be **converted to numbers**.\n",
    "\n",
    "---\n",
    "\n",
    "### 🔹 Common Methods\n",
    "\n",
    "1. **Label Encoding**\n",
    "- Converts each category to a **unique integer**.\n",
    "- Example: `[\"Red\", \"Green\", \"Blue\"] → [0, 1, 2]`\n",
    "- Use for **ordinal categories** (with order).\n",
    "\n",
    "2. **One-Hot Encoding**\n",
    "- Creates **binary columns** for each category.\n",
    "- Example: `[\"Red\", \"Green\", \"Blue\"] → Red=[1,0,0], Green=[0,1,0], Blue=[0,0,1]`\n",
    "- Use for **nominal categories** (no order).\n",
    "\n",
    "3. **Ordinal Encoding**\n",
    "- Similar to label encoding but preserves **custom order**.\n",
    "- Example: `[\"Low\", \"Medium\", \"High\"] → [0, 1, 2]`\n",
    "\n",
    "---\n",
    "\n",
    "### 🔹 Libraries in Python\n",
    "```python\n",
    "from sklearn.preprocessing import LabelEncoder, OneHotEncoder\n",
    "import pandas as pd\n",
    "\n",
    "# Label Encoding\n",
    "le = LabelEncoder()\n",
    "df['Color_encoded'] = le.fit_transform(df['Color'])\n",
    "\n",
    "# One-Hot Encoding\n",
    "df = pd.get_dummies(df, columns=['Color'])\n"
   ],
   "id": "cc380a2ff25a088a"
  },
  {
   "metadata": {
    "ExecuteTime": {
     "end_time": "2025-09-24T04:03:19.338809Z",
     "start_time": "2025-09-24T04:03:19.331418Z"
    }
   },
   "cell_type": "code",
   "source": [
    "import numpy as np\n",
    "import pandas as pd\n",
    "import matplotlib.pyplot as plt\n",
    "import seaborn as sns\n"
   ],
   "id": "5f0fc5fb527f4fae",
   "outputs": [],
   "execution_count": 186
  },
  {
   "metadata": {
    "ExecuteTime": {
     "end_time": "2025-09-24T04:03:19.422189Z",
     "start_time": "2025-09-24T04:03:19.407657Z"
    }
   },
   "cell_type": "code",
   "source": [
    "df = pd.read_csv(r'C:\\Basic_Datascience_4ML\\assets\\data\\customer.csv')\n",
    "df.head()\n",
    "a = df['gender'].value_counts().nunique()\n",
    "print(a)"
   ],
   "id": "ad0cd58eafb28bde",
   "outputs": [
    {
     "name": "stdout",
     "output_type": "stream",
     "text": [
      "2\n"
     ]
    }
   ],
   "execution_count": 187
  },
  {
   "metadata": {
    "ExecuteTime": {
     "end_time": "2025-09-24T04:03:19.494474Z",
     "start_time": "2025-09-24T04:03:19.487903Z"
    }
   },
   "cell_type": "code",
   "source": "df = df.iloc[:,2:]",
   "id": "b2d840628f41617d",
   "outputs": [],
   "execution_count": 188
  },
  {
   "metadata": {
    "ExecuteTime": {
     "end_time": "2025-09-24T04:03:19.567657Z",
     "start_time": "2025-09-24T04:03:19.551705Z"
    }
   },
   "cell_type": "code",
   "source": "df.head()",
   "id": "5a6e5470f4ca4645",
   "outputs": [
    {
     "data": {
      "text/plain": [
       "    review education purchased\n",
       "0  Average    School        No\n",
       "1     Poor        UG        No\n",
       "2     Good        PG        No\n",
       "3     Good        PG        No\n",
       "4  Average        UG        No"
      ],
      "text/html": [
       "<div>\n",
       "<style scoped>\n",
       "    .dataframe tbody tr th:only-of-type {\n",
       "        vertical-align: middle;\n",
       "    }\n",
       "\n",
       "    .dataframe tbody tr th {\n",
       "        vertical-align: top;\n",
       "    }\n",
       "\n",
       "    .dataframe thead th {\n",
       "        text-align: right;\n",
       "    }\n",
       "</style>\n",
       "<table border=\"1\" class=\"dataframe\">\n",
       "  <thead>\n",
       "    <tr style=\"text-align: right;\">\n",
       "      <th></th>\n",
       "      <th>review</th>\n",
       "      <th>education</th>\n",
       "      <th>purchased</th>\n",
       "    </tr>\n",
       "  </thead>\n",
       "  <tbody>\n",
       "    <tr>\n",
       "      <th>0</th>\n",
       "      <td>Average</td>\n",
       "      <td>School</td>\n",
       "      <td>No</td>\n",
       "    </tr>\n",
       "    <tr>\n",
       "      <th>1</th>\n",
       "      <td>Poor</td>\n",
       "      <td>UG</td>\n",
       "      <td>No</td>\n",
       "    </tr>\n",
       "    <tr>\n",
       "      <th>2</th>\n",
       "      <td>Good</td>\n",
       "      <td>PG</td>\n",
       "      <td>No</td>\n",
       "    </tr>\n",
       "    <tr>\n",
       "      <th>3</th>\n",
       "      <td>Good</td>\n",
       "      <td>PG</td>\n",
       "      <td>No</td>\n",
       "    </tr>\n",
       "    <tr>\n",
       "      <th>4</th>\n",
       "      <td>Average</td>\n",
       "      <td>UG</td>\n",
       "      <td>No</td>\n",
       "    </tr>\n",
       "  </tbody>\n",
       "</table>\n",
       "</div>"
      ]
     },
     "execution_count": 189,
     "metadata": {},
     "output_type": "execute_result"
    }
   ],
   "execution_count": 189
  },
  {
   "metadata": {
    "ExecuteTime": {
     "end_time": "2025-09-24T04:03:19.702083Z",
     "start_time": "2025-09-24T04:03:19.687492Z"
    }
   },
   "cell_type": "code",
   "source": [
    "from sklearn.model_selection import train_test_split\n",
    "\n",
    "X_train, X_test, y_train, y_test = train_test_split(\n",
    "    df.iloc[:, 0:2],    # Selects all rows, columns 0 and 1 (features)\n",
    "    df.iloc[:, -1],     # Selects all rows, last column (target/label)\n",
    "    test_size=0.2\n",
    ")\n",
    "print(X_train.head())"
   ],
   "id": "8d6b781f641e563f",
   "outputs": [
    {
     "name": "stdout",
     "output_type": "stream",
     "text": [
      "     review education\n",
      "37  Average        PG\n",
      "24  Average        PG\n",
      "10     Good        UG\n",
      "36     Good        UG\n",
      "41     Good        PG\n"
     ]
    }
   ],
   "execution_count": 190
  },
  {
   "metadata": {},
   "cell_type": "markdown",
   "source": [
    "# 📘 OrdinalEncoder vs LabelEncoder\n",
    "\n",
    "### 🔹 LabelEncoder\n",
    "- Used for **1-D target labels (y)** in supervised learning.\n",
    "- Converts categories into integers:\n",
    "  `[\"cat\",\"dog\",\"mouse\"] → [0,1,2]`\n",
    "- Works only on a **single column**.\n",
    "- Example: encoding `y_train` in classification,  it creates a **fake order** (e.g., Cat=0, Dog=1, Mouse=2), which can **mislead ML models**. .\n",
    "\n",
    "### 🔹 OrdinalEncoder\n",
    "- Used for **2-D feature columns (X)**.\n",
    "- Converts each categorical column into integers.\n",
    "- Example:\n",
    "  | Size     | → | Encoded |\n",
    "  |----------|--|----------|\n",
    "  | Small    | → | 0        |\n",
    "  | Medium   | → | 1        |\n",
    "  | Large    | → | 2        |\n",
    "\n",
    "✅ **Rule of Thumb**\n",
    "- Use **LabelEncoder → y (target variable)**\n",
    "- Use **OrdinalEncoder → X (features with ordinal categories)**\n"
   ],
   "id": "387c1b43cb3c2060"
  },
  {
   "metadata": {
    "ExecuteTime": {
     "end_time": "2025-09-24T04:03:19.833929Z",
     "start_time": "2025-09-24T04:03:19.814143Z"
    }
   },
   "cell_type": "code",
   "source": [
    "from sklearn.preprocessing import OrdinalEncoder\n",
    "oe = OrdinalEncoder(categories=[['Poor','Average','Good'],['School','UG','PG']])\n",
    "oe.fit(X_train)\n",
    "X_train_Encoded = oe.transform(X_train)\n",
    "X_test_Encoded = oe.transform(X_test)\n",
    "print(X_train)"
   ],
   "id": "df3bf912304aabf8",
   "outputs": [
    {
     "name": "stdout",
     "output_type": "stream",
     "text": [
      "     review education\n",
      "37  Average        PG\n",
      "24  Average        PG\n",
      "10     Good        UG\n",
      "36     Good        UG\n",
      "41     Good        PG\n",
      "4   Average        UG\n",
      "30  Average        UG\n",
      "14     Poor        PG\n",
      "42     Good        PG\n",
      "7      Poor    School\n",
      "22     Poor        PG\n",
      "35     Poor    School\n",
      "5   Average    School\n",
      "15     Poor        UG\n",
      "45     Poor        PG\n",
      "34  Average    School\n",
      "11     Good        UG\n",
      "18     Good    School\n",
      "17     Poor        UG\n",
      "21  Average        PG\n",
      "0   Average    School\n",
      "48     Good        UG\n",
      "12     Poor    School\n",
      "2      Good        PG\n",
      "46     Poor        PG\n",
      "23     Good    School\n",
      "8   Average        UG\n",
      "29  Average        UG\n",
      "19     Poor        PG\n",
      "49     Good        UG\n",
      "6      Good    School\n",
      "9      Good        UG\n",
      "3      Good        PG\n",
      "47     Good        PG\n",
      "27     Poor        PG\n",
      "32  Average        UG\n",
      "20  Average    School\n",
      "39     Poor        PG\n",
      "13  Average    School\n",
      "43     Poor        PG\n"
     ]
    }
   ],
   "execution_count": 191
  },
  {
   "metadata": {
    "ExecuteTime": {
     "end_time": "2025-09-24T04:03:19.940450Z",
     "start_time": "2025-09-24T04:03:19.930398Z"
    }
   },
   "cell_type": "code",
   "source": [
    "X_train_Encoded = pd.DataFrame(X_train_Encoded,columns=['review','education'])\n",
    "print(df.head())"
   ],
   "id": "55bc3064e87110d5",
   "outputs": [
    {
     "name": "stdout",
     "output_type": "stream",
     "text": [
      "    review education purchased\n",
      "0  Average    School        No\n",
      "1     Poor        UG        No\n",
      "2     Good        PG        No\n",
      "3     Good        PG        No\n",
      "4  Average        UG        No\n"
     ]
    }
   ],
   "execution_count": 192
  },
  {
   "metadata": {
    "ExecuteTime": {
     "end_time": "2025-09-24T04:03:20.010727Z",
     "start_time": "2025-09-24T04:03:19.998765Z"
    }
   },
   "cell_type": "code",
   "source": [
    "from sklearn.preprocessing import LabelEncoder\n",
    "le = LabelEncoder()\n",
    "le.fit(y_train)\n",
    "y_train_Encoded = le.transform(y_train)\n",
    "y_test_Encoded = le.transform(y_train)\n",
    "print(y_test_Encoded)\n"
   ],
   "id": "86d3a1ab2e34984",
   "outputs": [
    {
     "name": "stdout",
     "output_type": "stream",
     "text": [
      "[1 1 1 1 1 0 0 1 1 1 1 1 1 0 1 0 1 0 1 0 0 1 0 0 0 0 0 1 1 0 0 1 0 1 0 1 1\n",
      " 0 0 0]\n"
     ]
    }
   ],
   "execution_count": 193
  },
  {
   "metadata": {
    "ExecuteTime": {
     "end_time": "2025-09-24T04:03:20.087959Z",
     "start_time": "2025-09-24T04:03:20.081973Z"
    }
   },
   "cell_type": "code",
   "source": "y_train_Encoded=pd.Series(y_train_Encoded,name='Purchased')",
   "id": "71ac043daf259100",
   "outputs": [],
   "execution_count": 194
  },
  {
   "metadata": {
    "ExecuteTime": {
     "end_time": "2025-09-24T04:03:20.155049Z",
     "start_time": "2025-09-24T04:03:20.143132Z"
    }
   },
   "cell_type": "code",
   "source": [
    "final_df = pd.concat([X_train_Encoded, y_train_Encoded], axis=1)\n",
    "print(final_df.head())"
   ],
   "id": "17c5df4e46dd811f",
   "outputs": [
    {
     "name": "stdout",
     "output_type": "stream",
     "text": [
      "   review  education  Purchased\n",
      "0     1.0        2.0          1\n",
      "1     1.0        2.0          1\n",
      "2     2.0        1.0          1\n",
      "3     2.0        1.0          1\n",
      "4     2.0        2.0          1\n"
     ]
    }
   ],
   "execution_count": 195
  },
  {
   "metadata": {},
   "cell_type": "markdown",
   "source": [
    "# 📘 One-Hot Encoding (OHE)\n",
    "\n",
    "### 🔹 Theory\n",
    "- One-Hot Encoding is used for **nominal categorical data** (categories without order).\n",
    "- It creates a new **binary column (0/1)** for each category.\n",
    "- Example: \"Red\", \"Green\", \"Blue\"\n",
    "\n",
    "| Red | Green | Blue |\n",
    "|-----|-------|------|\n",
    "|  1  |   0   |   0  |\n",
    "|  0  |   1   |   0  |\n",
    "|  0  |   0   |   1  |\n",
    "\n",
    "---\n",
    "\n",
    "### 🔹 Why use **n-1 Columns (Dummy Variable Trap)?**\n",
    "- If we keep all `n` dummy variables, they become **linearly dependent**.\n",
    "  - Example: If you know `Red=0` and `Green=0`, then `Blue` must be `1`.\n",
    "  - This introduces **multicollinearity** in models like **Linear Regression**.\n",
    "- To avoid this, we drop one column → use **n-1 dummies**.\n",
    "- The dropped category is still represented implicitly.\n",
    "  - Example: If we drop \"Blue\", then:\n",
    "    - Red=1 → Red\n",
    "    - Green=1 → Green\n",
    "    - Both Red=0 and Green=0 → Blue\n",
    "\n",
    "✅ This is called avoiding the **dummy variable trap**.\n",
    "\n",
    "---\n",
    "\n",
    "### 🔹 Summary\n",
    "- **OHE** → For nominal categorical features.\n",
    "- **n columns** → safe for tree-based models (no collinearity issue).\n",
    "- **n-1 columns** → better for linear models (avoids redundancy).\n"
   ],
   "id": "a41ab95197b32fac"
  },
  {
   "metadata": {
    "ExecuteTime": {
     "end_time": "2025-09-24T04:03:20.252984Z",
     "start_time": "2025-09-24T04:03:20.228258Z"
    }
   },
   "cell_type": "code",
   "source": [
    "df = pd.read_csv(r'C:\\Basic_Datascience_4ML\\assets\\data\\cars.csv')\n",
    "df['brand'].value_counts().nunique()"
   ],
   "id": "f37c8a11f7f4d4e5",
   "outputs": [
    {
     "data": {
      "text/plain": [
       "27"
      ]
     },
     "execution_count": 196,
     "metadata": {},
     "output_type": "execute_result"
    }
   ],
   "execution_count": 196
  },
  {
   "metadata": {},
   "cell_type": "markdown",
   "source": [
    "ohi using only pandas\n",
    "in this new row have col_category and we dont use it because it forgets the addition and removealof col my the user"
   ],
   "id": "acb7d2d59ed13000"
  },
  {
   "metadata": {
    "ExecuteTime": {
     "end_time": "2025-09-24T04:03:20.356439Z",
     "start_time": "2025-09-24T04:03:20.330835Z"
    }
   },
   "cell_type": "code",
   "source": "pd.get_dummies(data=df,columns=['fuel','owner'],drop_first=True).head()\n",
   "id": "d7c0853fe2006377",
   "outputs": [
    {
     "data": {
      "text/plain": [
       "     brand  km_driven  selling_price  fuel_Diesel  fuel_LPG  fuel_Petrol  \\\n",
       "0   Maruti     145500         450000         True     False        False   \n",
       "1    Skoda     120000         370000         True     False        False   \n",
       "2    Honda     140000         158000        False     False         True   \n",
       "3  Hyundai     127000         225000         True     False        False   \n",
       "4   Maruti     120000         130000        False     False         True   \n",
       "\n",
       "   owner_Fourth & Above Owner  owner_Second Owner  owner_Test Drive Car  \\\n",
       "0                       False               False                 False   \n",
       "1                       False                True                 False   \n",
       "2                       False               False                 False   \n",
       "3                       False               False                 False   \n",
       "4                       False               False                 False   \n",
       "\n",
       "   owner_Third Owner  \n",
       "0              False  \n",
       "1              False  \n",
       "2               True  \n",
       "3              False  \n",
       "4              False  "
      ],
      "text/html": [
       "<div>\n",
       "<style scoped>\n",
       "    .dataframe tbody tr th:only-of-type {\n",
       "        vertical-align: middle;\n",
       "    }\n",
       "\n",
       "    .dataframe tbody tr th {\n",
       "        vertical-align: top;\n",
       "    }\n",
       "\n",
       "    .dataframe thead th {\n",
       "        text-align: right;\n",
       "    }\n",
       "</style>\n",
       "<table border=\"1\" class=\"dataframe\">\n",
       "  <thead>\n",
       "    <tr style=\"text-align: right;\">\n",
       "      <th></th>\n",
       "      <th>brand</th>\n",
       "      <th>km_driven</th>\n",
       "      <th>selling_price</th>\n",
       "      <th>fuel_Diesel</th>\n",
       "      <th>fuel_LPG</th>\n",
       "      <th>fuel_Petrol</th>\n",
       "      <th>owner_Fourth &amp; Above Owner</th>\n",
       "      <th>owner_Second Owner</th>\n",
       "      <th>owner_Test Drive Car</th>\n",
       "      <th>owner_Third Owner</th>\n",
       "    </tr>\n",
       "  </thead>\n",
       "  <tbody>\n",
       "    <tr>\n",
       "      <th>0</th>\n",
       "      <td>Maruti</td>\n",
       "      <td>145500</td>\n",
       "      <td>450000</td>\n",
       "      <td>True</td>\n",
       "      <td>False</td>\n",
       "      <td>False</td>\n",
       "      <td>False</td>\n",
       "      <td>False</td>\n",
       "      <td>False</td>\n",
       "      <td>False</td>\n",
       "    </tr>\n",
       "    <tr>\n",
       "      <th>1</th>\n",
       "      <td>Skoda</td>\n",
       "      <td>120000</td>\n",
       "      <td>370000</td>\n",
       "      <td>True</td>\n",
       "      <td>False</td>\n",
       "      <td>False</td>\n",
       "      <td>False</td>\n",
       "      <td>True</td>\n",
       "      <td>False</td>\n",
       "      <td>False</td>\n",
       "    </tr>\n",
       "    <tr>\n",
       "      <th>2</th>\n",
       "      <td>Honda</td>\n",
       "      <td>140000</td>\n",
       "      <td>158000</td>\n",
       "      <td>False</td>\n",
       "      <td>False</td>\n",
       "      <td>True</td>\n",
       "      <td>False</td>\n",
       "      <td>False</td>\n",
       "      <td>False</td>\n",
       "      <td>True</td>\n",
       "    </tr>\n",
       "    <tr>\n",
       "      <th>3</th>\n",
       "      <td>Hyundai</td>\n",
       "      <td>127000</td>\n",
       "      <td>225000</td>\n",
       "      <td>True</td>\n",
       "      <td>False</td>\n",
       "      <td>False</td>\n",
       "      <td>False</td>\n",
       "      <td>False</td>\n",
       "      <td>False</td>\n",
       "      <td>False</td>\n",
       "    </tr>\n",
       "    <tr>\n",
       "      <th>4</th>\n",
       "      <td>Maruti</td>\n",
       "      <td>120000</td>\n",
       "      <td>130000</td>\n",
       "      <td>False</td>\n",
       "      <td>False</td>\n",
       "      <td>True</td>\n",
       "      <td>False</td>\n",
       "      <td>False</td>\n",
       "      <td>False</td>\n",
       "      <td>False</td>\n",
       "    </tr>\n",
       "  </tbody>\n",
       "</table>\n",
       "</div>"
      ]
     },
     "execution_count": 197,
     "metadata": {},
     "output_type": "execute_result"
    }
   ],
   "execution_count": 197
  },
  {
   "metadata": {},
   "cell_type": "markdown",
   "source": "onehot encoding using sklearn",
   "id": "3a07d842c9cb3e0d"
  },
  {
   "metadata": {
    "ExecuteTime": {
     "end_time": "2025-09-24T04:03:20.506242Z",
     "start_time": "2025-09-24T04:03:20.483943Z"
    }
   },
   "cell_type": "code",
   "source": [
    "from sklearn.model_selection import train_test_split\n",
    "X_train, X_test, y_train, y_test = train_test_split(df.iloc[:, 0:4], df.iloc[:, -1], test_size=0.2)\n",
    "print(X_train)"
   ],
   "id": "ff23154667654c6e",
   "outputs": [
    {
     "name": "stdout",
     "output_type": "stream",
     "text": [
      "         brand  km_driven    fuel         owner\n",
      "1244    Maruti     120000  Petrol   First Owner\n",
      "7319  Mahindra      30000  Diesel  Second Owner\n",
      "1767      Jeep      80000  Diesel   First Owner\n",
      "5606      Tata     155000  Diesel  Second Owner\n",
      "5143    Maruti     110000  Diesel  Second Owner\n",
      "...        ...        ...     ...           ...\n",
      "2699    Maruti      35000  Petrol   First Owner\n",
      "639       Tata      50000  Diesel   First Owner\n",
      "6022    Maruti      55403  Petrol   First Owner\n",
      "7067    Maruti      80000  Petrol   Third Owner\n",
      "1357    Maruti      60000  Diesel   First Owner\n",
      "\n",
      "[6502 rows x 4 columns]\n"
     ]
    }
   ],
   "execution_count": 198
  },
  {
   "metadata": {
    "ExecuteTime": {
     "end_time": "2025-09-24T04:03:20.681941Z",
     "start_time": "2025-09-24T04:03:20.651082Z"
    }
   },
   "cell_type": "code",
   "source": [
    "from sklearn.preprocessing import OneHotEncoder\n",
    "ohe = OneHotEncoder(handle_unknown='ignore')\n",
    "X_test_Encoded = ohe.fit_transform(X_test[['fuel','owner']])\n",
    "X_train_Encoded = ohe.fit_transform(X_train[['fuel','owner']]).toarray()\n",
    "print(X_train_Encoded)\n",
    "print(X_train)"
   ],
   "id": "f3498998280a8886",
   "outputs": [
    {
     "name": "stdout",
     "output_type": "stream",
     "text": [
      "[[0. 0. 0. ... 0. 0. 0.]\n",
      " [0. 1. 0. ... 1. 0. 0.]\n",
      " [0. 1. 0. ... 0. 0. 0.]\n",
      " ...\n",
      " [0. 0. 0. ... 0. 0. 0.]\n",
      " [0. 0. 0. ... 0. 0. 1.]\n",
      " [0. 1. 0. ... 0. 0. 0.]]\n",
      "         brand  km_driven    fuel         owner\n",
      "1244    Maruti     120000  Petrol   First Owner\n",
      "7319  Mahindra      30000  Diesel  Second Owner\n",
      "1767      Jeep      80000  Diesel   First Owner\n",
      "5606      Tata     155000  Diesel  Second Owner\n",
      "5143    Maruti     110000  Diesel  Second Owner\n",
      "...        ...        ...     ...           ...\n",
      "2699    Maruti      35000  Petrol   First Owner\n",
      "639       Tata      50000  Diesel   First Owner\n",
      "6022    Maruti      55403  Petrol   First Owner\n",
      "7067    Maruti      80000  Petrol   Third Owner\n",
      "1357    Maruti      60000  Diesel   First Owner\n",
      "\n",
      "[6502 rows x 4 columns]\n"
     ]
    }
   ],
   "execution_count": 199
  },
  {
   "metadata": {
    "ExecuteTime": {
     "end_time": "2025-09-24T04:03:20.844262Z",
     "start_time": "2025-09-24T04:03:20.826904Z"
    }
   },
   "cell_type": "code",
   "source": "Table = np.hstack((X_train[['brand','km_driven']].values, X_train_Encoded))\n",
   "id": "64d0411b5c4de70d",
   "outputs": [],
   "execution_count": 200
  },
  {
   "metadata": {},
   "cell_type": "markdown",
   "source": [
    "if it is pandas and want a array to values ,\n",
    "if it is matrix and want to do array  do toarrays once they all are array simply do hstack(x,y)\n",
    "------------------------------------------------------------------------------------------------------------------------------------------------"
   ],
   "id": "e85ef0452fb178f9"
  },
  {
   "metadata": {
    "ExecuteTime": {
     "end_time": "2025-09-24T04:03:20.939809Z",
     "start_time": "2025-09-24T04:03:20.916717Z"
    }
   },
   "cell_type": "code",
   "source": [
    "d = pd.DataFrame(Table)\n",
    "print(df.head())\n",
    "print(d.iloc[:,2:].mean())"
   ],
   "id": "7dbb2cab084fa5a5",
   "outputs": [
    {
     "name": "stdout",
     "output_type": "stream",
     "text": [
      "     brand  km_driven    fuel         owner  selling_price\n",
      "0   Maruti     145500  Diesel   First Owner         450000\n",
      "1    Skoda     120000  Diesel  Second Owner         370000\n",
      "2    Honda     140000  Petrol   Third Owner         158000\n",
      "3  Hyundai     127000  Diesel   First Owner         225000\n",
      "4   Maruti     120000  Petrol   First Owner         130000\n",
      "2      0.00646\n",
      "3     0.542295\n",
      "4      0.00446\n",
      "5     0.446786\n",
      "6     0.650261\n",
      "7     0.021839\n",
      "8     0.260535\n",
      "9     0.000769\n",
      "10    0.066595\n",
      "dtype: object\n"
     ]
    }
   ],
   "execution_count": 201
  },
  {
   "metadata": {},
   "cell_type": "markdown",
   "source": "now making a new col in which car brands less then 100 is inside that col",
   "id": "cb4ee0551aed0dcf"
  },
  {
   "metadata": {
    "ExecuteTime": {
     "end_time": "2025-09-24T04:03:21.024693Z",
     "start_time": "2025-09-24T04:03:21.003966Z"
    }
   },
   "cell_type": "code",
   "source": [
    "# Count brands\n",
    "count = df['brand'].value_counts()\n",
    "print(count)\n",
    "\n",
    "# Rare brands (freq < 100)\n",
    "rare_brands = count[count < 100].index\n",
    "print(rare_brands)\n",
    "\n",
    "# Replace rare brands with \"uncommon\"\n",
    "df['brand_clean'] = df['brand'].replace(rare_brands, 'uncommon')\n",
    "\n",
    "# One-hot encoding\n",
    "new = pd.get_dummies(df['brand_clean'])\n",
    "print(new.head())\n"
   ],
   "id": "a987dadea38a07ce",
   "outputs": [
    {
     "name": "stdout",
     "output_type": "stream",
     "text": [
      "brand\n",
      "Maruti           2448\n",
      "Hyundai          1415\n",
      "Mahindra          772\n",
      "Tata              734\n",
      "Toyota            488\n",
      "Honda             467\n",
      "Ford              397\n",
      "Chevrolet         230\n",
      "Renault           228\n",
      "Volkswagen        186\n",
      "BMW               120\n",
      "Skoda             105\n",
      "Nissan             81\n",
      "Jaguar             71\n",
      "Volvo              67\n",
      "Datsun             65\n",
      "Mercedes-Benz      54\n",
      "Fiat               47\n",
      "Audi               40\n",
      "Lexus              34\n",
      "Jeep               31\n",
      "Mitsubishi         14\n",
      "Force               6\n",
      "Land                6\n",
      "Isuzu               5\n",
      "Kia                 4\n",
      "Ambassador          4\n",
      "Daewoo              3\n",
      "MG                  3\n",
      "Ashok               1\n",
      "Opel                1\n",
      "Peugeot             1\n",
      "Name: count, dtype: int64\n",
      "Index(['Nissan', 'Jaguar', 'Volvo', 'Datsun', 'Mercedes-Benz', 'Fiat', 'Audi',\n",
      "       'Lexus', 'Jeep', 'Mitsubishi', 'Force', 'Land', 'Isuzu', 'Kia',\n",
      "       'Ambassador', 'Daewoo', 'MG', 'Ashok', 'Opel', 'Peugeot'],\n",
      "      dtype='object', name='brand')\n",
      "     BMW  Chevrolet   Ford  Honda  Hyundai  Mahindra  Maruti  Renault  Skoda  \\\n",
      "0  False      False  False  False    False     False    True    False  False   \n",
      "1  False      False  False  False    False     False   False    False   True   \n",
      "2  False      False  False   True    False     False   False    False  False   \n",
      "3  False      False  False  False     True     False   False    False  False   \n",
      "4  False      False  False  False    False     False    True    False  False   \n",
      "\n",
      "    Tata  Toyota  Volkswagen  uncommon  \n",
      "0  False   False       False     False  \n",
      "1  False   False       False     False  \n",
      "2  False   False       False     False  \n",
      "3  False   False       False     False  \n",
      "4  False   False       False     False  \n"
     ]
    }
   ],
   "execution_count": 202
  },
  {
   "metadata": {},
   "cell_type": "code",
   "outputs": [],
   "execution_count": null,
   "source": "",
   "id": "ad36cdca9e36f842"
  }
 ],
 "metadata": {
  "kernelspec": {
   "display_name": "Python 3",
   "language": "python",
   "name": "python3"
  },
  "language_info": {
   "codemirror_mode": {
    "name": "ipython",
    "version": 2
   },
   "file_extension": ".py",
   "mimetype": "text/x-python",
   "name": "python",
   "nbconvert_exporter": "python",
   "pygments_lexer": "ipython2",
   "version": "2.7.6"
  }
 },
 "nbformat": 4,
 "nbformat_minor": 5
}
