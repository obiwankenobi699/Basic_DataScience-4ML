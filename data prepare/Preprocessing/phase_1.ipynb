{
 "cells": [
  {
   "metadata": {},
   "cell_type": "markdown",
   "source": [
    "# 🧹 Data Preprocessing\n",
    "\n",
    "## 📌 Introduction\n",
    "Data preprocessing is the **first step in the Machine Learning pipeline**.\n",
    "It involves cleaning and transforming raw data into a usable format.\n",
    "Without preprocessing, data may contain noise, missing values, or inconsistent formats,\n",
    "which can mislead models and reduce performance.\n",
    "\n",
    "---\n",
    "\n",
    "## 🔑 Importance of Data Preprocessing\n",
    "- Ensures **data quality** before analysis.\n",
    "- Handles **missing, duplicate, and inconsistent values**.\n",
    "- Converts raw data into a **structured format**.\n",
    "- Improves **accuracy and reliability** of ML models.\n",
    "\n",
    "---\n",
    "\n",
    "## 🛠️ Common Steps in Data Preprocessing\n",
    "\n",
    "### 1. Handling Missing Values\n",
    "- **Drop rows/columns** with too many missing values.\n",
    "- **Impute values** (mean, median, mode, or advanced imputation methods).\n",
    "\n",
    "### 2. Handling Duplicates\n",
    "- Remove duplicate rows to avoid bias in training.\n",
    "\n",
    "### 3. Handling Outliers\n",
    "- Detect outliers using statistical methods (IQR, Z-score).\n",
    "- Remove or cap extreme values if they are errors.\n",
    "\n",
    "### 4. Normalization & Scaling\n",
    "- Scale numerical features so they are comparable.\n",
    "  - **Standardization** → mean = 0, std = 1.\n",
    "  - **Min-Max scaling** → values between 0 and 1.\n",
    "\n",
    "### 5. Handling Class Imbalance\n",
    "- If the target variable is imbalanced (e.g., 90% class A, 10% class B),\n",
    "  the model may become biased.\n",
    "- Solutions:\n",
    "  - **Resampling techniques**:\n",
    "    - Oversampling (e.g., SMOTE)\n",
    "    - Undersampling\n",
    "  - **Class weights adjustment** in models.\n",
    "  - **Collect more data** for minority class.\n",
    "\n",
    "---\n",
    "\n",
    "## ⚡ Key Point\n",
    "- **Data Preprocessing = Cleaning & Preparing raw data**.\n",
    "- It is the **foundation** of every ML project.\n",
    "- Once data is preprocessed, we can perform **EDA** and **Feature Engineering** effectively.\n"
   ],
   "id": "2bc16c3924694c04"
  }
 ],
 "metadata": {
  "kernelspec": {
   "display_name": "Python 3",
   "language": "python",
   "name": "python3"
  },
  "language_info": {
   "codemirror_mode": {
    "name": "ipython",
    "version": 2
   },
   "file_extension": ".py",
   "mimetype": "text/x-python",
   "name": "python",
   "nbconvert_exporter": "python",
   "pygments_lexer": "ipython2",
   "version": "2.7.6"
  }
 },
 "nbformat": 4,
 "nbformat_minor": 5
}
