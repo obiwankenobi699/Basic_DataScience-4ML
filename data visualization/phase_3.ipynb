{
 "cells": [
  {
   "metadata": {},
   "cell_type": "code",
   "source": [
    "import numpy as np\n",
    "import pandas as pd\n",
    "import matplotlib.pyplot as plt\n",
    "import seaborn as sns\n",
    "\n",
    "df = pd.read_csv(r\"C:\\Basic_Datascience_4ML\\assets\\data\\tips.csv\")\n",
    "df.head()\n",
    "df.sample(20)"
   ],
   "id": "initial_id",
   "outputs": [],
   "execution_count": null
  },
  {
   "metadata": {},
   "cell_type": "markdown",
   "source": [
    "📌 Categorical Data Plots – Theory\n",
    "\n",
    "Categorical plots are used to visualize the distribution and relationship of **categorical variables** with counts or numerical values. They are essential for exploring patterns, class balance, and group comparisons.\n",
    "\n",
    "## Types of Categorical Plots\n",
    "\n",
    "1. **Countplot**\n",
    "   - Displays frequency of each category.\n",
    "   - Example: Number of male vs female passengers.\n",
    "\n",
    "2. **Barplot**\n",
    "   - Shows an aggregate (mean/median/sum) of a numerical variable across categories.\n",
    "   - Example: Average fare per passenger class. take x= quantitative , y = qualitative\n",
    "\n",
    "3. **Boxplot**\n",
    "   - Summarizes distribution using median, quartiles, and outliers for each category.\n",
    "   - Example: Age distribution by survival status.\n",
    "   - Boxplot detailed in ``` data prepare ```\n",
    "\n",
    "4. **Violin Plot**\n",
    "   - Combines boxplot with KDE to show both summary statistics and distribution density.\n",
    "   - Example: Salary distribution by job role.\n",
    "\n",
    "5. **Stripplot**\n",
    "   - Displays individual observations per category (with jitter).\n",
    "   - Best for small datasets.\n",
    "   - stripplot will draw a scatterplot where one variable is categorical\n",
    "\n",
    "6. **Swarmplot**\n",
    "   - Similar to stripplot but adjusts points to avoid overlap.\n",
    "   - Example: Test scores grouped by section.\n",
    "\n",
    "## When to Use\n",
    "- **Countplot** → Frequency of categories.\n",
    "- **Barplot** → Compare numeric values across categories.\n",
    "- **Box/Violin** → Understand spread, distribution, and outliers.\n",
    "- **Strip/Swarm** → Visualize individual data points within categories.\n"
   ],
   "id": "68f3f5881ec5c496"
  },
  {
   "metadata": {},
   "cell_type": "code",
   "source": "sns.countplot(data=df,x=\"sex\",hue=\"smoker\",palette=\"Set2\")",
   "id": "fbffd574b1138840",
   "outputs": [],
   "execution_count": null
  },
  {
   "metadata": {},
   "cell_type": "code",
   "source": "sns.barplot(data=df,x='sex',y=\"tip\",estimator=np.sum)",
   "id": "8e0fa0510aac1973",
   "outputs": [],
   "execution_count": null
  },
  {
   "metadata": {},
   "cell_type": "code",
   "source": "sns.boxplot(data=df,x='tip',y='day')",
   "id": "9b8d5a075c59285b",
   "outputs": [],
   "execution_count": null
  },
  {
   "metadata": {},
   "cell_type": "code",
   "source": "sns.violinplot(data=df,x='day',y='tip',palette='Set2',hue='sex')",
   "id": "3fd7dba5b5a7a214",
   "outputs": [],
   "execution_count": null
  },
  {
   "metadata": {},
   "cell_type": "code",
   "source": "sns.stripplot(data=df,x='day',y='tip',hue='sex',palette='Set2')",
   "id": "eecff58b6ac7e2db",
   "outputs": [],
   "execution_count": null
  },
  {
   "metadata": {},
   "cell_type": "code",
   "source": "sns.swarmplot(data=df,x='day',y='tip',hue='sex',palette='Set2')",
   "id": "a0cfdc153274abbe",
   "outputs": [],
   "execution_count": null
  },
  {
   "metadata": {},
   "cell_type": "code",
   "source": [
    "sns.violinplot(data=df,x='day',y='tip',hue='sex',palette='Set2')\n",
    "sns.stripplot(data=df,x='day',y='tip',hue='sex',palette='Set2')"
   ],
   "id": "cc637c13abc8c575",
   "outputs": [],
   "execution_count": null
  },
  {
   "metadata": {},
   "cell_type": "markdown",
   "source": [
    " Matrix Plots – Theory\n",
    "\n",
    "A **matrix plot** visualizes data stored in a rectangular 2D matrix form (rows × columns). It helps in identifying patterns, correlations, and clusters across variables. Each cell in the matrix represents a value and is usually color-coded.\n",
    "\n",
    "## Common Types of Matrix Plots\n",
    "\n",
    "1. **Heatmap**\n",
    "   - Shows data values as color-shaded cells.\n",
    "   - Useful for correlation matrices or frequency tables.\n",
    "   - Example: Visualizing correlation between features in a dataset.\n",
    "\n",
    "2. **Cluster Map**\n",
    "   - Heatmap with hierarchical clustering (rows and columns are reordered based on similarity).\n",
    "   - Useful for detecting groups and patterns.\n",
    "   - Example: Gene expression data analysis.\n",
    "\n",
    "3. **Pivot Table Heatmap**\n",
    "   - Matrix derived from categorical grouping and aggregation, visualized as a heatmap.\n",
    "   - Example: Sales across regions and months.\n",
    "\n",
    "## When to Use Matrix Plots\n",
    "- To explore **relationships between multiple variables**.\n",
    "- To detect **correlations** (positive/negative).\n",
    "- To identify **clusters, similarities, or anomalies**.\n",
    "- To visualize **large tabular data** in a compact, interpretable way.\n"
   ],
   "id": "ab975e011e48c7aa"
  },
  {
   "metadata": {},
   "cell_type": "code",
   "source": [
    "# Correlation Heatmap (only numeric columns)\n",
    "sns.heatmap(df.select_dtypes(include='number').corr(), annot=True, cmap=\"coolwarm\")\n",
    "plt.show()\n",
    "\n",
    "# Cluster Map\n",
    "sns.clustermap(df.select_dtypes(include='number').corr(), annot=True, cmap=\"viridis\")\n",
    "plt.show()\n",
    "\n",
    "# Pivot Heatmap (Average Tip by Day and Gender)\n",
    "sns.heatmap(\n",
    "    df.pivot_table(values=\"tip\", index=\"day\", columns=\"sex\", aggfunc=\"mean\"),\n",
    "    annot=True, cmap=\"YlGnBu\"\n",
    ")\n",
    "plt.show()\n"
   ],
   "id": "12f36422e66bca93",
   "outputs": [],
   "execution_count": null
  }
 ],
 "metadata": {
  "kernelspec": {
   "display_name": "Python 3",
   "language": "python",
   "name": "python3"
  },
  "language_info": {
   "codemirror_mode": {
    "name": "ipython",
    "version": 2
   },
   "file_extension": ".py",
   "mimetype": "text/x-python",
   "name": "python",
   "nbconvert_exporter": "python",
   "pygments_lexer": "ipython2",
   "version": "2.7.6"
  }
 },
 "nbformat": 4,
 "nbformat_minor": 5
}
