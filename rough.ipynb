{
 "cells": [
  {
   "metadata": {},
   "cell_type": "code",
   "source": [
    "import numpy as np\n",
    "import pandas as pd\n",
    "import matplotlib.pyplot as plt\n",
    "import seaborn as sns\n"
   ],
   "id": "5334d0f449a0a08c",
   "outputs": [],
   "execution_count": null
  },
  {
   "metadata": {},
   "cell_type": "code",
   "source": [
    "df = pd.read_csv(r'C:\\Basic_Datascience_4ML\\assets\\data\\cars.csv')\n",
    "print(df.head())"
   ],
   "id": "9edcdc5a1d1c8da5",
   "outputs": [],
   "execution_count": null
  },
  {
   "metadata": {
    "ExecuteTime": {
     "end_time": "2025-09-27T10:25:26.748317Z",
     "start_time": "2025-09-27T10:25:26.712309Z"
    }
   },
   "cell_type": "code",
   "source": [
    "df.describe()\n",
    "df.value_counts()"
   ],
   "id": "61c5731fc9f50043",
   "outputs": [
    {
     "data": {
      "text/plain": [
       "brand   km_driven  fuel    owner         selling_price\n",
       "Jaguar  45000      Diesel  First Owner   3200000          34\n",
       "Lexus   20000      Petrol  First Owner   5150000          34\n",
       "Toyota  68089      Petrol  First Owner   2000000          32\n",
       "Honda   56494      Petrol  First Owner   550000           32\n",
       "Toyota  79328      Diesel  Second Owner  750000           31\n",
       "                                                          ..\n",
       "Jeep    12000      Diesel  First Owner   1500000           1\n",
       "        10000      Petrol  First Owner   1520000           1\n",
       "Jaguar  70000      Diesel  Second Owner  3000000           1\n",
       "        35000      Diesel  First Owner   3500000           1\n",
       "Volvo   72500      Diesel  Second Owner  1200000           1\n",
       "Name: count, Length: 6450, dtype: int64"
      ]
     },
     "execution_count": 10,
     "metadata": {},
     "output_type": "execute_result"
    }
   ],
   "execution_count": 10
  },
  {
   "metadata": {},
   "cell_type": "code",
   "source": [
    "from sklearn.model_selection import train_test_split\n",
    "X_train,X_test,y_train,y_test = train_test_split(df,df['price'],test_size=0.2)"
   ],
   "id": "45921196b885b89b",
   "outputs": [],
   "execution_count": null
  }
 ],
 "metadata": {
  "kernelspec": {
   "display_name": "Python 3",
   "language": "python",
   "name": "python3"
  },
  "language_info": {
   "codemirror_mode": {
    "name": "ipython",
    "version": 2
   },
   "file_extension": ".py",
   "mimetype": "text/x-python",
   "name": "python",
   "nbconvert_exporter": "python",
   "pygments_lexer": "ipython2",
   "version": "2.7.6"
  }
 },
 "nbformat": 4,
 "nbformat_minor": 5
}
