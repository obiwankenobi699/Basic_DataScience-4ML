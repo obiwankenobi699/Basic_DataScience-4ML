{
 "cells": [
  {
   "metadata": {
    "ExecuteTime": {
     "end_time": "2025-09-23T23:35:36.907592Z",
     "start_time": "2025-09-23T23:35:36.902997Z"
    }
   },
   "cell_type": "code",
   "source": [
    "from pandas.core.interchange.dataframe_protocol import Column\n",
    "\n",
    "import numpy as np\n",
    "import pandas as pd\n",
    "import matplotlib.pyplot as plt\n",
    "import seaborn as sns"
   ],
   "id": "19272e1170672a1a",
   "outputs": [],
   "execution_count": 1
  },
  {
   "metadata": {
    "ExecuteTime": {
     "end_time": "2025-09-23T23:35:36.988147Z",
     "start_time": "2025-09-23T23:35:36.943511Z"
    }
   },
   "cell_type": "code",
   "source": [
    "df = pd.read_csv(r'C:\\Basic_Datascience_4ML\\assets\\data\\customer.csv')\n",
    "df.sample(10)"
   ],
   "id": "dbfda1c0b95e788c",
   "outputs": [
    {
     "data": {
      "text/plain": [
       "    age  gender   review education purchased\n",
       "10   98  Female     Good        UG       Yes\n",
       "30   73    Male  Average        UG        No\n",
       "44   77  Female  Average        UG        No\n",
       "12   51    Male     Poor    School        No\n",
       "46   64  Female     Poor        PG        No\n",
       "49   25  Female     Good        UG        No\n",
       "27   69  Female     Poor        PG        No\n",
       "35   74    Male     Poor    School       Yes\n",
       "33   89  Female     Good        PG       Yes\n",
       "47   38  Female     Good        PG       Yes"
      ],
      "text/html": [
       "<div>\n",
       "<style scoped>\n",
       "    .dataframe tbody tr th:only-of-type {\n",
       "        vertical-align: middle;\n",
       "    }\n",
       "\n",
       "    .dataframe tbody tr th {\n",
       "        vertical-align: top;\n",
       "    }\n",
       "\n",
       "    .dataframe thead th {\n",
       "        text-align: right;\n",
       "    }\n",
       "</style>\n",
       "<table border=\"1\" class=\"dataframe\">\n",
       "  <thead>\n",
       "    <tr style=\"text-align: right;\">\n",
       "      <th></th>\n",
       "      <th>age</th>\n",
       "      <th>gender</th>\n",
       "      <th>review</th>\n",
       "      <th>education</th>\n",
       "      <th>purchased</th>\n",
       "    </tr>\n",
       "  </thead>\n",
       "  <tbody>\n",
       "    <tr>\n",
       "      <th>10</th>\n",
       "      <td>98</td>\n",
       "      <td>Female</td>\n",
       "      <td>Good</td>\n",
       "      <td>UG</td>\n",
       "      <td>Yes</td>\n",
       "    </tr>\n",
       "    <tr>\n",
       "      <th>30</th>\n",
       "      <td>73</td>\n",
       "      <td>Male</td>\n",
       "      <td>Average</td>\n",
       "      <td>UG</td>\n",
       "      <td>No</td>\n",
       "    </tr>\n",
       "    <tr>\n",
       "      <th>44</th>\n",
       "      <td>77</td>\n",
       "      <td>Female</td>\n",
       "      <td>Average</td>\n",
       "      <td>UG</td>\n",
       "      <td>No</td>\n",
       "    </tr>\n",
       "    <tr>\n",
       "      <th>12</th>\n",
       "      <td>51</td>\n",
       "      <td>Male</td>\n",
       "      <td>Poor</td>\n",
       "      <td>School</td>\n",
       "      <td>No</td>\n",
       "    </tr>\n",
       "    <tr>\n",
       "      <th>46</th>\n",
       "      <td>64</td>\n",
       "      <td>Female</td>\n",
       "      <td>Poor</td>\n",
       "      <td>PG</td>\n",
       "      <td>No</td>\n",
       "    </tr>\n",
       "    <tr>\n",
       "      <th>49</th>\n",
       "      <td>25</td>\n",
       "      <td>Female</td>\n",
       "      <td>Good</td>\n",
       "      <td>UG</td>\n",
       "      <td>No</td>\n",
       "    </tr>\n",
       "    <tr>\n",
       "      <th>27</th>\n",
       "      <td>69</td>\n",
       "      <td>Female</td>\n",
       "      <td>Poor</td>\n",
       "      <td>PG</td>\n",
       "      <td>No</td>\n",
       "    </tr>\n",
       "    <tr>\n",
       "      <th>35</th>\n",
       "      <td>74</td>\n",
       "      <td>Male</td>\n",
       "      <td>Poor</td>\n",
       "      <td>School</td>\n",
       "      <td>Yes</td>\n",
       "    </tr>\n",
       "    <tr>\n",
       "      <th>33</th>\n",
       "      <td>89</td>\n",
       "      <td>Female</td>\n",
       "      <td>Good</td>\n",
       "      <td>PG</td>\n",
       "      <td>Yes</td>\n",
       "    </tr>\n",
       "    <tr>\n",
       "      <th>47</th>\n",
       "      <td>38</td>\n",
       "      <td>Female</td>\n",
       "      <td>Good</td>\n",
       "      <td>PG</td>\n",
       "      <td>Yes</td>\n",
       "    </tr>\n",
       "  </tbody>\n",
       "</table>\n",
       "</div>"
      ]
     },
     "execution_count": 2,
     "metadata": {},
     "output_type": "execute_result"
    }
   ],
   "execution_count": 2
  },
  {
   "metadata": {},
   "cell_type": "markdown",
   "source": "Label Encoding",
   "id": "dfa6c3066518058"
  },
  {
   "metadata": {
    "ExecuteTime": {
     "end_time": "2025-09-23T23:35:38.032936Z",
     "start_time": "2025-09-23T23:35:38.021074Z"
    }
   },
   "cell_type": "code",
   "source": [
    "df = df.iloc[:,2:]\n",
    "print(df)"
   ],
   "id": "dc9909e235b814af",
   "outputs": [
    {
     "name": "stdout",
     "output_type": "stream",
     "text": [
      "     review education purchased\n",
      "0   Average    School        No\n",
      "1      Poor        UG        No\n",
      "2      Good        PG        No\n",
      "3      Good        PG        No\n",
      "4   Average        UG        No\n",
      "5   Average    School       Yes\n",
      "6      Good    School        No\n",
      "7      Poor    School       Yes\n",
      "8   Average        UG        No\n",
      "9      Good        UG       Yes\n",
      "10     Good        UG       Yes\n",
      "11     Good        UG       Yes\n",
      "12     Poor    School        No\n",
      "13  Average    School        No\n",
      "14     Poor        PG       Yes\n",
      "15     Poor        UG        No\n",
      "16     Poor        UG       Yes\n",
      "17     Poor        UG       Yes\n",
      "18     Good    School        No\n",
      "19     Poor        PG       Yes\n",
      "20  Average    School       Yes\n",
      "21  Average        PG        No\n",
      "22     Poor        PG       Yes\n",
      "23     Good    School        No\n",
      "24  Average        PG       Yes\n",
      "25     Good    School        No\n",
      "26     Poor        PG        No\n",
      "27     Poor        PG        No\n",
      "28     Poor    School        No\n",
      "29  Average        UG       Yes\n",
      "30  Average        UG        No\n",
      "31     Poor    School       Yes\n",
      "32  Average        UG       Yes\n",
      "33     Good        PG       Yes\n",
      "34  Average    School        No\n",
      "35     Poor    School       Yes\n",
      "36     Good        UG       Yes\n",
      "37  Average        PG       Yes\n",
      "38     Good    School        No\n",
      "39     Poor        PG        No\n",
      "40     Good    School        No\n",
      "41     Good        PG       Yes\n",
      "42     Good        PG       Yes\n",
      "43     Poor        PG        No\n",
      "44  Average        UG        No\n",
      "45     Poor        PG       Yes\n",
      "46     Poor        PG        No\n",
      "47     Good        PG       Yes\n",
      "48     Good        UG       Yes\n",
      "49     Good        UG        No\n"
     ]
    }
   ],
   "execution_count": 3
  },
  {
   "metadata": {
    "ExecuteTime": {
     "end_time": "2025-09-23T23:35:40.559145Z",
     "start_time": "2025-09-23T23:35:38.250870Z"
    }
   },
   "cell_type": "code",
   "source": [
    "from  sklearn.model_selection import train_test_split\n",
    "X_train,X_test,y_train,y_test = train_test_split(df.iloc[:,:2],df.iloc[:,-1],test_size=0.2)\n",
    "print(X_train)"
   ],
   "id": "d789ca65b91c778b",
   "outputs": [
    {
     "name": "stdout",
     "output_type": "stream",
     "text": [
      "     review education\n",
      "46     Poor        PG\n",
      "37  Average        PG\n",
      "21  Average        PG\n",
      "36     Good        UG\n",
      "16     Poor        UG\n",
      "9      Good        UG\n",
      "24  Average        PG\n",
      "44  Average        UG\n",
      "27     Poor        PG\n",
      "42     Good        PG\n",
      "23     Good    School\n",
      "0   Average    School\n",
      "13  Average    School\n",
      "31     Poor    School\n",
      "35     Poor    School\n",
      "19     Poor        PG\n",
      "3      Good        PG\n",
      "43     Poor        PG\n",
      "8   Average        UG\n",
      "47     Good        PG\n",
      "25     Good    School\n",
      "28     Poor    School\n",
      "14     Poor        PG\n",
      "18     Good    School\n",
      "32  Average        UG\n",
      "5   Average    School\n",
      "6      Good    School\n",
      "12     Poor    School\n",
      "40     Good    School\n",
      "49     Good        UG\n",
      "11     Good        UG\n",
      "30  Average        UG\n",
      "22     Poor        PG\n",
      "29  Average        UG\n",
      "45     Poor        PG\n",
      "2      Good        PG\n",
      "10     Good        UG\n",
      "38     Good    School\n",
      "48     Good        UG\n",
      "4   Average        UG\n"
     ]
    }
   ],
   "execution_count": 4
  },
  {
   "metadata": {
    "ExecuteTime": {
     "end_time": "2025-09-23T23:35:40.698314Z",
     "start_time": "2025-09-23T23:35:40.689796Z"
    }
   },
   "cell_type": "code",
   "source": [
    "from sklearn.preprocessing import OrdinalEncoder\n",
    "oe = OrdinalEncoder()\n",
    "X_train = oe.fit(X_train)\n",
    "X_test_Encoded = oe.transform(X_test)\n",
    "X_test_Encoded = oe.transform(X_test)\n",
    "\n"
   ],
   "id": "74c6be75aee5cb30",
   "outputs": [],
   "execution_count": 5
  },
  {
   "metadata": {
    "ExecuteTime": {
     "end_time": "2025-09-23T23:35:40.843852Z",
     "start_time": "2025-09-23T23:35:40.838640Z"
    }
   },
   "cell_type": "code",
   "source": [
    "print(X_test_Encoded)\n",
    "df = pd.DataFrame(X_test_Encoded,columns=['review','education'])"
   ],
   "id": "23c7e5337ecfc6b7",
   "outputs": [
    {
     "name": "stdout",
     "output_type": "stream",
     "text": [
      "[[0. 1.]\n",
      " [1. 0.]\n",
      " [2. 1.]\n",
      " [2. 2.]\n",
      " [2. 2.]\n",
      " [2. 0.]\n",
      " [2. 0.]\n",
      " [0. 1.]\n",
      " [1. 0.]\n",
      " [2. 2.]]\n"
     ]
    }
   ],
   "execution_count": 6
  },
  {
   "metadata": {},
   "cell_type": "markdown",
   "source": "Standardization",
   "id": "778fdf0f83e5b6a3"
  },
  {
   "metadata": {
    "ExecuteTime": {
     "end_time": "2025-09-23T23:35:41.002324Z",
     "start_time": "2025-09-23T23:35:40.993222Z"
    }
   },
   "cell_type": "code",
   "source": [
    "from sklearn.preprocessing import StandardScaler\n",
    "\n",
    "scaler = StandardScaler()\n",
    "\n",
    "# Fit the scaler to the training set to learn mean and std\n",
    "scaler.fit(X_test_Encoded)\n",
    "\n",
    "# Transform train and test sets using parameters learned from train set\n",
    "X_test_scaled = scaler.transform(X_test_Encoded)\n",
    "\n",
    "# it gives me numpy array but i want dataframe so i have to convert it to data frame\n",
    "print(X_test_scaled)\n",
    "\n",
    "\n"
   ],
   "id": "59aeab44dd73cc8",
   "outputs": [
    {
     "name": "stdout",
     "output_type": "stream",
     "text": [
      "[[-1.75        0.12038585]\n",
      " [-0.5        -1.08347268]\n",
      " [ 0.75        0.12038585]\n",
      " [ 0.75        1.32424438]\n",
      " [ 0.75        1.32424438]\n",
      " [ 0.75       -1.08347268]\n",
      " [ 0.75       -1.08347268]\n",
      " [-1.75        0.12038585]\n",
      " [-0.5        -1.08347268]\n",
      " [ 0.75        1.32424438]]\n"
     ]
    }
   ],
   "execution_count": 7
  },
  {
   "metadata": {
    "ExecuteTime": {
     "end_time": "2025-09-23T23:35:41.120966Z",
     "start_time": "2025-09-23T23:35:41.100188Z"
    }
   },
   "cell_type": "code",
   "source": [
    "X = pd.DataFrame(X_test_scaled, columns=['review','education'])\n",
    "X.describe()\n",
    "np, round(X.describe(), 1)"
   ],
   "id": "d103c077de7bcb37",
   "outputs": [
    {
     "data": {
      "text/plain": [
       "(<module 'numpy' from 'C:\\\\Basic_Datascience_4ML\\\\.venv\\\\Lib\\\\site-packages\\\\numpy\\\\__init__.py'>,\n",
       "        review  education\n",
       " count    10.0       10.0\n",
       " mean      0.0        0.0\n",
       " std       1.1        1.1\n",
       " min      -1.7       -1.1\n",
       " 25%      -0.5       -1.1\n",
       " 50%       0.8        0.1\n",
       " 75%       0.8        1.0\n",
       " max       0.8        1.3)"
      ]
     },
     "execution_count": 8,
     "metadata": {},
     "output_type": "execute_result"
    }
   ],
   "execution_count": 8
  },
  {
   "metadata": {
    "ExecuteTime": {
     "end_time": "2025-09-23T23:35:41.205759Z",
     "start_time": "2025-09-23T23:35:41.196420Z"
    }
   },
   "cell_type": "code",
   "source": "print(X.sample(10))",
   "id": "f2395a940938554d",
   "outputs": [
    {
     "name": "stdout",
     "output_type": "stream",
     "text": [
      "   review  education\n",
      "9    0.75   1.324244\n",
      "4    0.75   1.324244\n",
      "7   -1.75   0.120386\n",
      "8   -0.50  -1.083473\n",
      "3    0.75   1.324244\n",
      "6    0.75  -1.083473\n",
      "5    0.75  -1.083473\n",
      "0   -1.75   0.120386\n",
      "1   -0.50  -1.083473\n",
      "2    0.75   0.120386\n"
     ]
    }
   ],
   "execution_count": 9
  }
 ],
 "metadata": {
  "kernelspec": {
   "display_name": "Python 3",
   "language": "python",
   "name": "python3"
  },
  "language_info": {
   "codemirror_mode": {
    "name": "ipython",
    "version": 2
   },
   "file_extension": ".py",
   "mimetype": "text/x-python",
   "name": "python",
   "nbconvert_exporter": "python",
   "pygments_lexer": "ipython2",
   "version": "2.7.6"
  }
 },
 "nbformat": 4,
 "nbformat_minor": 5
}
